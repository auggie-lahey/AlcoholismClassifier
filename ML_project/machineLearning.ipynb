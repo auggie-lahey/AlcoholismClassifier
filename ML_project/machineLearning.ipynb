{
 "cells": [
  {
   "cell_type": "code",
   "execution_count": 21,
   "metadata": {},
   "outputs": [
    {
     "name": "stdout",
     "output_type": "stream",
     "text": [
      "Index(['school', 'sex', 'age', 'address', 'famsize', 'Pstatus', 'Medu', 'Fedu',\n",
      "       'Mjob', 'Fjob', 'reason', 'guardian', 'traveltime', 'studytime',\n",
      "       'failures', 'schoolsup', 'famsup', 'paid', 'activities', 'nursery',\n",
      "       'higher', 'internet', 'romantic', 'famrel', 'freetime', 'goout', 'Dalc',\n",
      "       'Walc', 'health', 'absences', 'G1', 'G2', 'G3'],\n",
      "      dtype='object')\n"
     ]
    }
   ],
   "source": [
    "import pandas as pd\n",
    "import numbers\n",
    "pd.options.mode.chained_assignment =default='warn'\n",
    "import matplotlib.pyplot as plt\n",
    "from matplotlib.mlab import PCA\n",
    "import numpy as np\n",
    "from collections import Counter\n",
    "import mlpy\n",
    "\n",
    "\n",
    "# # Read data from dict and csv\n",
    "\n",
    "# In[2]:\n",
    "\n",
    "df = pd.read_csv('student-por.csv')\n",
    "print(df.columns)\n",
    "df.columns = ['school', 'sex', 'age', 'rural', 'big_family', 'divorced', 'mom_edu', 'dad_edu',\n",
    "       'mom_job', 'dad_job', 'reason_for_school', 'guardian', 'travel_time', 'study_time',\n",
    "       'failures', 'extra_school_support', 'extra_family_support', 'paid', 'extracurricular', 'preschool',\n",
    "       'college', 'internet_access', 'dating', 'home_life', 'free_time', 'party', 'wd_drinker',\n",
    "       'weekend_drinker', 'health', 'absences', 'fall_grade', 'spring_grade', 'final_grade']\n",
    "dictionary = pd.read_csv('dict.csv')\n",
    "dictionary.drop([\"Unnamed: 2\"], 1)\n",
    "dictionary['col'] = df.columns\n",
    "\n",
    "\n",
    "# # Transform data to readable format\n",
    "\n",
    "# In[3]:\n",
    "\n",
    "original_data = df.copy()\n",
    "df = df.replace(['yes', 'no'], [1,0])\n",
    "df.divorced = df.divorced.replace([\"A\", \"T\"], [1,0])\n",
    "df.big_family = df.big_family.replace([\"LE3\", \"GT3\"], [0,1])\n",
    "df.rural = df.rural.replace([\"U\",\"R\"], [0,1])\n",
    "df.sex = df.sex.replace([\"M\",\"F\"], [0,1])\n",
    "df.school = df.school.replace([\"GP\",\"MS\"], [1,2])\n",
    "df.guardian = df.guardian.replace([\"mother\",\"father\", \"other\"], [1,2,3])\n",
    "df.mom_job = df.mom_job.replace([\"teacher\",\"health\",\"services\",\"at_home\",\"other\"], [1,2,3,4,5])\n",
    "df.dad_job = df.dad_job.replace([\"teacher\",\"health\",\"services\",\"at_home\",\"other\"], [1,2,3,4,5])\n",
    "df.reason_for_school = df.reason_for_school.replace([\"home\",\"reputation\", \"course\",\"other\"], [1,2,3,4])\n",
    "df['index'] = df.index\n",
    "df[\"risk_score\"] = df.wd_drinker * df.weekend_drinker\n",
    "\n",
    "\n",
    "df['school_GP'] = df.school.replace([1,2], [1,0])#[\"GP\",\"MS\"], [1,2])\n",
    "df['school_MS'] = df.school.replace([1,2], [0,1])\n",
    "\n",
    "df['guard_mom'] = df.guardian.replace([1,2,3], [1,0,0])#[\"mother\",\"father\", \"other\"], [1,2,3])\n",
    "df['guard_dad'] = df.guardian.replace([1,2,3],[0,1,0])#[\"mother\",\"father\", \"other\"], [1,2,3])\n",
    "df['guard_other'] = df.guardian.replace([1,2,3], [0,0,1])#[\"mother\",\"father\", \"other\"], [1,2,3])\n",
    "\n",
    "#[\"teacher\",\"health\",\"services\",\"at_home\",\"other\"], [1,2,3,4,5])\n",
    "df['mom_teach'] = df.mom_job.replace([1,2,3,4,5], [1,0,0,0,0])\n",
    "df['mom_health'] = df.mom_job.replace([1,2,3,4,5], [0,1,0,0,0])\n",
    "df['mom_service'] = df.mom_job.replace([1,2,3,4,5], [0,0,1,0,0])\n",
    "df['mom_home'] = df.mom_job.replace([1,2,3,4,5], [0,0,0,1,0])\n",
    "df['mom_other'] = df.mom_job.replace([1,2,3,4,5], [0,0,0,0,1])\n",
    "\n",
    "df['dad_teach'] = df.dad_job.replace([1,2,3,4,5], [1,0,0,0,0])\n",
    "df['dad_health'] = df.dad_job.replace([1,2,3,4,5], [0,1,0,0,0])\n",
    "df['dad_service'] = df.dad_job.replace([1,2,3,4,5], [0,0,1,0,0])\n",
    "df['dad_home'] = df.dad_job.replace([1,2,3,4,5], [0,0,0,1,0])\n",
    "df['dad_other'] = df.dad_job.replace([1,2,3,4,5], [0,0,0,0,1])\n",
    "\n",
    "#df.reason_for_school = df.reason_for_school.replace([\"home\",\"reputation\", \"course\",\"other\"], [1,2,3,4])\n",
    "df['reason_home'] = df.reason_for_school.replace([1,2,3,4], [1,0,0,0])\n",
    "df['reason_rep'] = df.reason_for_school.replace([1,2,3,4], [0,1,0,0])\n",
    "df['reason_course'] = df.reason_for_school.replace([1,2,3,4], [0,0,1,0])\n",
    "df['reason_other'] = df.reason_for_school.replace([1,2,3,4], [0,0,0,1])\n",
    "\n",
    "\n",
    "# # Build dictionary for translation\n",
    "\n",
    "# In[4]:\n",
    "\n",
    "dictionary.columns = ['original_name', 'meaning', 'classes', 'col']\n",
    "dictionary = dictionary.replace(np.nan, '', regex=True)\n",
    "dictionary  = dictionary.set_value(5, 'classes', \"1 = divorced\")\n",
    "dictionary  = dictionary.set_value(4, 'classes', \"1 = >3\")\n",
    "dictionary  = dictionary.set_value(3, 'classes', \"1 = rural\")\n",
    "dictionary  = dictionary.set_value(1, 'classes', \"0=male, 1=female\")\n",
    "dictionary  = dictionary.set_value(0, 'classes', \"1=GP 1=MS\")\n",
    "dictionary  = dictionary.set_value(11, 'classes', \"1=mother, 2=father, 3=other\")\n",
    "dictionary  = dictionary.set_value(8, 'classes', \"1=teacher, 2=health 3=services 4=at_home 5=other\")\n",
    "dictionary  = dictionary.set_value(9, 'classes', \"1=teacher, 2=health 3=services 4=at_home 5=other\")\n",
    "dictionary  = dictionary.set_value(10, 'classes', \"1=close to home, 2=reputation 3=course4 =other\")\n"
   ]
  },
  {
   "cell_type": "code",
   "execution_count": 52,
   "metadata": {},
   "outputs": [
    {
     "name": "stdout",
     "output_type": "stream",
     "text": [
      "(649, 45)\n"
     ]
    }
   ],
   "source": [
    "cols = [ 'sex', 'age', 'rural', 'big_family', 'divorced', 'mom_edu',\n",
    "       'dad_edu','travel_time', 'study_time', 'failures', 'extra_school_support',\n",
    "       'extra_family_support', 'paid', 'extracurricular', 'preschool',\n",
    "       'college', 'internet_access', 'dating', 'home_life', 'free_time',\n",
    "       'party', 'health', 'absences',\n",
    "       'fall_grade', 'spring_grade', 'final_grade',\n",
    "       'school_GP', 'school_MS', \n",
    "       'guard_mom', 'guard_dad', 'guard_other',\n",
    "       'mom_teach', 'mom_health', 'mom_service', 'mom_home', 'mom_other',\n",
    "       'dad_teach', 'dad_health', 'dad_service', 'dad_home', 'dad_other',\n",
    "       'reason_home', 'reason_rep', 'reason_course', 'reason_other'\n",
    "       ]\n",
    "\n",
    "newData = df[cols]\n",
    "matrix = newData.as_matrix()\n",
    "print(str(matrix.shape))\n",
    "# now PCA on the matrix\n",
    "\n",
    "results = PCA(matrix)"
   ]
  },
  {
   "cell_type": "code",
   "execution_count": 53,
   "metadata": {},
   "outputs": [
    {
     "name": "stdout",
     "output_type": "stream",
     "text": [
      "[  1.10128370e-01   5.52960871e-02   5.38859579e-02   4.53972950e-02\n",
      "   3.92231427e-02   3.85602902e-02   3.61535335e-02   3.50233986e-02\n",
      "   3.36046492e-02   3.03708670e-02   2.86729933e-02   2.85628530e-02\n",
      "   2.78755528e-02   2.75967140e-02   2.54173309e-02   2.41672890e-02\n",
      "   2.36828142e-02   2.25428038e-02   2.17342974e-02   2.07885795e-02\n",
      "   2.06529971e-02   1.99746642e-02   1.96232946e-02   1.82749154e-02\n",
      "   1.72591736e-02   1.68103412e-02   1.63315083e-02   1.62332830e-02\n",
      "   1.55132619e-02   1.43337801e-02   1.37835668e-02   1.32889360e-02\n",
      "   1.29805177e-02   1.25296513e-02   1.18836650e-02   1.10411730e-02\n",
      "   1.00187388e-02   5.48455751e-03   3.70460981e-03   1.59254568e-03\n",
      "   2.17189914e-32   7.89032811e-33   6.41907378e-33   4.47225917e-33\n",
      "   9.57493706e-34]\n"
     ]
    }
   ],
   "source": [
    "# print out eigen vector array from PCA\n",
    "print(results.fracs)\n",
    "\n",
    "\n",
    "# this shows prop of variance\n",
    "# print(results.fracs)\n",
    "\n",
    "# proj = results.project(matrix)\n",
    "# proj here is the same as results.Y because results.Y shows the values in terms of eigen vectors/values?\n",
    "\n"
   ]
  },
  {
   "cell_type": "code",
   "execution_count": 54,
   "metadata": {},
   "outputs": [
    {
     "name": "stdout",
     "output_type": "stream",
     "text": [
      "[[ -7.14558925e-01  -1.78103238e+00   1.08374262e+00 ...,  -4.92661467e-16\n",
      "    6.93889390e-16   1.33226763e-15]\n",
      " [ -9.32091727e-01   1.06553917e+00  -8.78324950e-01 ...,   1.06165077e-15\n",
      "   -4.16333634e-16  -1.83186799e-15]\n",
      " [  6.71384782e-02   1.09414493e+00  -1.14759611e+00 ...,  -5.55111512e-17\n",
      "   -3.33066907e-16   3.33066907e-16]\n",
      " ..., \n",
      " [ -2.23838238e+00   1.85205292e+00  -1.35838677e+00 ...,   6.24500451e-17\n",
      "   -6.38378239e-16   1.22124533e-15]\n",
      " [ -1.65861305e+00  -7.51643717e-01   1.79137839e+00 ...,   5.06539255e-16\n",
      "   -1.41553436e-15   6.66133815e-16]\n",
      " [ -1.83238750e+00   7.59113453e-02   5.31011753e-01 ...,   9.50628465e-16\n",
      "   -3.60822483e-16   1.33226763e-15]]\n"
     ]
    }
   ],
   "source": [
    "print(results.Y)\n",
    "# print(\"and y\" + str(results.Y))"
   ]
  },
  {
   "cell_type": "code",
   "execution_count": 55,
   "metadata": {
    "collapsed": true
   },
   "outputs": [],
   "source": [
    "#print(results.Wt[0])"
   ]
  },
  {
   "cell_type": "code",
   "execution_count": 56,
   "metadata": {},
   "outputs": [
    {
     "data": {
      "text/plain": [
       "array([[ 1, 18,  0, ...,  0,  1,  0],\n",
       "       [ 1, 17,  0, ...,  0,  1,  0],\n",
       "       [ 1, 15,  0, ...,  0,  0,  1],\n",
       "       ..., \n",
       "       [ 1, 18,  0, ...,  0,  1,  0],\n",
       "       [ 0, 17,  0, ...,  0,  1,  0],\n",
       "       [ 0, 18,  1, ...,  0,  1,  0]])"
      ]
     },
     "execution_count": 56,
     "metadata": {},
     "output_type": "execute_result"
    }
   ],
   "source": [
    "matrix"
   ]
  },
  {
   "cell_type": "code",
   "execution_count": 57,
   "metadata": {
    "collapsed": true
   },
   "outputs": [],
   "source": [
    "# create pca class from mlpy\n",
    "pca = mlpy.PCA()"
   ]
  },
  {
   "cell_type": "code",
   "execution_count": 58,
   "metadata": {
    "collapsed": true
   },
   "outputs": [],
   "source": [
    "# feed dataset to it\n",
    "pca.learn(matrix)"
   ]
  },
  {
   "cell_type": "code",
   "execution_count": null,
   "metadata": {},
   "outputs": [],
   "source": []
  },
  {
   "cell_type": "code",
   "execution_count": 59,
   "metadata": {},
   "outputs": [
    {
     "name": "stdout",
     "output_type": "stream",
     "text": [
      "0.749337816189\n"
     ]
    }
   ],
   "source": [
    "eigens = pca.evals()\n",
    "# print(results.fracs)\n",
    "# print(eigens)\n",
    "      \n",
    "prop = 0\n",
    "propVar = results.fracs\n",
    "\n",
    "k = 20\n",
    "for x in range(0,k+1):\n",
    "    prop += propVar[x]\n",
    "    \n",
    "print(str(prop))\n",
    "\n",
    "\n"
   ]
  },
  {
   "cell_type": "code",
   "execution_count": 14,
   "metadata": {},
   "outputs": [
    {
     "name": "stdout",
     "output_type": "stream",
     "text": [
      "(649, 1)\n"
     ]
    }
   ],
   "source": [
    "# reduce dimensions of data, holding K values\n",
    "z = pca.transform(matrix, 1)\n",
    "print(str(z.shape))"
   ]
  },
  {
   "cell_type": "code",
   "execution_count": 16,
   "metadata": {
    "collapsed": true
   },
   "outputs": [],
   "source": [
    "xnew = pca.transform_inv(matrix) # trasform data back to original dimensions \n"
   ]
  },
  {
   "cell_type": "code",
   "execution_count": null,
   "metadata": {
    "collapsed": true
   },
   "outputs": [],
   "source": []
  }
 ],
 "metadata": {
  "kernelspec": {
   "display_name": "Python 3",
   "language": "python",
   "name": "python3"
  },
  "language_info": {
   "codemirror_mode": {
    "name": "ipython",
    "version": 3
   },
   "file_extension": ".py",
   "mimetype": "text/x-python",
   "name": "python",
   "nbconvert_exporter": "python",
   "pygments_lexer": "ipython3",
   "version": "3.5.2"
  }
 },
 "nbformat": 4,
 "nbformat_minor": 2
}
