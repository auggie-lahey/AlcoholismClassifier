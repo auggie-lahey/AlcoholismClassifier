{
 "cells": [
  {
   "cell_type": "code",
   "execution_count": 1,
   "metadata": {},
   "outputs": [
    {
     "name": "stdout",
     "output_type": "stream",
     "text": [
      "Index(['school', 'sex', 'age', 'address', 'famsize', 'Pstatus', 'Medu', 'Fedu',\n",
      "       'Mjob', 'Fjob', 'reason', 'guardian', 'traveltime', 'studytime',\n",
      "       'failures', 'schoolsup', 'famsup', 'paid', 'activities', 'nursery',\n",
      "       'higher', 'internet', 'romantic', 'famrel', 'freetime', 'goout', 'Dalc',\n",
      "       'Walc', 'health', 'absences', 'G1', 'G2', 'G3'],\n",
      "      dtype='object')\n"
     ]
    }
   ],
   "source": [
    "import pandas as pd\n",
    "import numbers\n",
    "pd.options.mode.chained_assignment =default='warn'\n",
    "import matplotlib.pyplot as plt\n",
    "# from matplotlib.mlab import PCA\n",
    "import numpy as np\n",
    "from collections import Counter\n",
    "import mlpy\n",
    "\n",
    "\n",
    "# # Read data from dict and csv\n",
    "\n",
    "# In[2]:\n",
    "\n",
    "df = pd.read_csv('student-por.csv')\n",
    "print(df.columns)\n",
    "df.columns = ['school', 'sex', 'age', 'rural', 'big_family', 'divorced', 'mom_edu', 'dad_edu',\n",
    "       'mom_job', 'dad_job', 'reason_for_school', 'guardian', 'travel_time', 'study_time',\n",
    "       'failures', 'extra_school_support', 'extra_family_support', 'paid', 'extracurricular', 'preschool',\n",
    "       'college', 'internet_access', 'dating', 'home_life', 'free_time', 'party', 'wd_drinker',\n",
    "       'weekend_drinker', 'health', 'absences', 'fall_grade', 'spring_grade', 'final_grade']\n",
    "dictionary = pd.read_csv('dict.csv')\n",
    "dictionary.drop([\"Unnamed: 2\"], 1)\n",
    "dictionary['col'] = df.columns\n",
    "\n",
    "\n",
    "# # Transform data to readable format\n",
    "\n",
    "# In[3]:\n",
    "\n",
    "original_data = df.copy()\n",
    "df = df.replace(['yes', 'no'], [1,0])\n",
    "df.divorced = df.divorced.replace([\"A\", \"T\"], [1,0])\n",
    "df.big_family = df.big_family.replace([\"LE3\", \"GT3\"], [0,1])\n",
    "df.rural = df.rural.replace([\"U\",\"R\"], [0,1])\n",
    "df.sex = df.sex.replace([\"M\",\"F\"], [0,1])\n",
    "df.school = df.school.replace([\"GP\",\"MS\"], [1,2])\n",
    "df.guardian = df.guardian.replace([\"mother\",\"father\", \"other\"], [1,2,3])\n",
    "df.mom_job = df.mom_job.replace([\"teacher\",\"health\",\"services\",\"at_home\",\"other\"], [1,2,3,4,5])\n",
    "df.dad_job = df.dad_job.replace([\"teacher\",\"health\",\"services\",\"at_home\",\"other\"], [1,2,3,4,5])\n",
    "df.reason_for_school = df.reason_for_school.replace([\"home\",\"reputation\", \"course\",\"other\"], [1,2,3,4])\n",
    "df['index'] = df.index\n",
    "df[\"risk_score\"] = df.wd_drinker * df.weekend_drinker\n",
    "\n",
    "\n",
    "df['school_GP'] = df.school.replace([1,2], [1,0])#[\"GP\",\"MS\"], [1,2])\n",
    "df['school_MS'] = df.school.replace([1,2], [0,1])\n",
    "\n",
    "df['guard_mom'] = df.guardian.replace([1,2,3], [1,0,0])#[\"mother\",\"father\", \"other\"], [1,2,3])\n",
    "df['guard_dad'] = df.guardian.replace([1,2,3],[0,1,0])#[\"mother\",\"father\", \"other\"], [1,2,3])\n",
    "df['guard_other'] = df.guardian.replace([1,2,3], [0,0,1])#[\"mother\",\"father\", \"other\"], [1,2,3])\n",
    "\n",
    "#[\"teacher\",\"health\",\"services\",\"at_home\",\"other\"], [1,2,3,4,5])\n",
    "df['mom_teach'] = df.mom_job.replace([1,2,3,4,5], [1,0,0,0,0])\n",
    "df['mom_health'] = df.mom_job.replace([1,2,3,4,5], [0,1,0,0,0])\n",
    "df['mom_service'] = df.mom_job.replace([1,2,3,4,5], [0,0,1,0,0])\n",
    "df['mom_home'] = df.mom_job.replace([1,2,3,4,5], [0,0,0,1,0])\n",
    "df['mom_other'] = df.mom_job.replace([1,2,3,4,5], [0,0,0,0,1])\n",
    "\n",
    "df['dad_teach'] = df.dad_job.replace([1,2,3,4,5], [1,0,0,0,0])\n",
    "df['dad_health'] = df.dad_job.replace([1,2,3,4,5], [0,1,0,0,0])\n",
    "df['dad_service'] = df.dad_job.replace([1,2,3,4,5], [0,0,1,0,0])\n",
    "df['dad_home'] = df.dad_job.replace([1,2,3,4,5], [0,0,0,1,0])\n",
    "df['dad_other'] = df.dad_job.replace([1,2,3,4,5], [0,0,0,0,1])\n",
    "\n",
    "#df.reason_for_school = df.reason_for_school.replace([\"home\",\"reputation\", \"course\",\"other\"], [1,2,3,4])\n",
    "df['reason_home'] = df.reason_for_school.replace([1,2,3,4], [1,0,0,0])\n",
    "df['reason_rep'] = df.reason_for_school.replace([1,2,3,4], [0,1,0,0])\n",
    "df['reason_course'] = df.reason_for_school.replace([1,2,3,4], [0,0,1,0])\n",
    "df['reason_other'] = df.reason_for_school.replace([1,2,3,4], [0,0,0,1])\n",
    "\n",
    "\n",
    "# # Build dictionary for translation\n",
    "\n",
    "# In[4]:\n",
    "\n",
    "dictionary.columns = ['original_name', 'meaning', 'classes', 'col']\n",
    "dictionary = dictionary.replace(np.nan, '', regex=True)\n",
    "dictionary  = dictionary.set_value(5, 'classes', \"1 = divorced\")\n",
    "dictionary  = dictionary.set_value(4, 'classes', \"1 = >3\")\n",
    "dictionary  = dictionary.set_value(3, 'classes', \"1 = rural\")\n",
    "dictionary  = dictionary.set_value(1, 'classes', \"0=male, 1=female\")\n",
    "dictionary  = dictionary.set_value(0, 'classes', \"1=GP 1=MS\")\n",
    "dictionary  = dictionary.set_value(11, 'classes', \"1=mother, 2=father, 3=other\")\n",
    "dictionary  = dictionary.set_value(8, 'classes', \"1=teacher, 2=health 3=services 4=at_home 5=other\")\n",
    "dictionary  = dictionary.set_value(9, 'classes', \"1=teacher, 2=health 3=services 4=at_home 5=other\")\n",
    "dictionary  = dictionary.set_value(10, 'classes', \"1=close to home, 2=reputation 3=course4 =other\")\n"
   ]
  },
  {
   "cell_type": "code",
   "execution_count": 2,
   "metadata": {
    "collapsed": true
   },
   "outputs": [],
   "source": [
    "matrix = df.as_matrix()\n",
    "# now PCA on the matrix\n",
    "\n",
    "# results = PCA(matrix)"
   ]
  },
  {
   "cell_type": "code",
   "execution_count": 3,
   "metadata": {
    "collapsed": true
   },
   "outputs": [],
   "source": [
    "# print out eigen vector array from PCA\n",
    "# print(results.s)\n",
    "\n",
    "\n",
    "# this shows prop of variance\n",
    "# print(results.fracs)\n",
    "\n",
    "# proj = results.project(matrix)\n",
    "# proj here is the same as results.Y because results.Y shows the values in terms of eigen vectors/values?\n",
    "\n"
   ]
  },
  {
   "cell_type": "code",
   "execution_count": 4,
   "metadata": {
    "collapsed": true
   },
   "outputs": [],
   "source": [
    "# print(proj)\n",
    "# print(\"and y\" + str(results.Y))"
   ]
  },
  {
   "cell_type": "code",
   "execution_count": 5,
   "metadata": {
    "collapsed": true
   },
   "outputs": [],
   "source": [
    "#print(results.Wt[0])"
   ]
  },
  {
   "cell_type": "code",
   "execution_count": 6,
   "metadata": {
    "collapsed": true
   },
   "outputs": [],
   "source": [
    "# create pca class from mlpy\n",
    "pca = mlpy.PCA()"
   ]
  },
  {
   "cell_type": "code",
   "execution_count": 7,
   "metadata": {
    "collapsed": true
   },
   "outputs": [],
   "source": [
    "# feed dataset to it\n",
    "pca.learn(matrix)"
   ]
  },
  {
   "cell_type": "code",
   "execution_count": 8,
   "metadata": {
    "collapsed": true
   },
   "outputs": [],
   "source": [
    "coeff = pca.coeff()"
   ]
  },
  {
   "cell_type": "code",
   "execution_count": 14,
   "metadata": {},
   "outputs": [
    {
     "name": "stdout",
     "output_type": "stream",
     "text": [
      "(649, 1)\n"
     ]
    }
   ],
   "source": [
    "# reduce dimensions of data, holding K values\n",
    "z = pca.transform(matrix, 1)\n",
    "print(str(z.shape))"
   ]
  },
  {
   "cell_type": "code",
   "execution_count": 16,
   "metadata": {},
   "outputs": [],
   "source": [
    "xnew = pca.transform_inv(matrix) # trasform data back to original dimensions \n"
   ]
  },
  {
   "cell_type": "code",
   "execution_count": null,
   "metadata": {
    "collapsed": true
   },
   "outputs": [],
   "source": []
  }
 ],
 "metadata": {
  "kernelspec": {
   "display_name": "Python 3",
   "language": "python",
   "name": "python3"
  },
  "language_info": {
   "codemirror_mode": {
    "name": "ipython",
    "version": 3
   },
   "file_extension": ".py",
   "mimetype": "text/x-python",
   "name": "python",
   "nbconvert_exporter": "python",
   "pygments_lexer": "ipython3",
   "version": "3.5.2"
  }
 },
 "nbformat": 4,
 "nbformat_minor": 2
}
