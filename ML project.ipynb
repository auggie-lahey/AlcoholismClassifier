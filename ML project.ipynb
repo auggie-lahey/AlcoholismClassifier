{
 "cells": [
  {
   "cell_type": "markdown",
   "metadata": {},
   "source": [
    "# Import libs"
   ]
  },
  {
   "cell_type": "code",
   "execution_count": 1,
   "metadata": {
    "collapsed": true
   },
   "outputs": [],
   "source": [
    "import pandas as pd\n",
    "import numbers\n",
    "pd.options.mode.chained_assignment =default='warn'\n",
    "import matplotlib.pyplot as plt\n",
    "import numpy as np\n",
    "from collections import Counter\n",
    "import statsmodels.api as sm\n"
   ]
  },
  {
   "cell_type": "markdown",
   "metadata": {},
   "source": [
    "# Read data from dict and csv"
   ]
  },
  {
   "cell_type": "code",
   "execution_count": 2,
   "metadata": {
    "collapsed": false
   },
   "outputs": [
    {
     "name": "stdout",
     "output_type": "stream",
     "text": [
      "Index(['school', 'sex', 'age', 'address', 'famsize', 'Pstatus', 'Medu', 'Fedu',\n",
      "       'Mjob', 'Fjob', 'reason', 'guardian', 'traveltime', 'studytime',\n",
      "       'failures', 'schoolsup', 'famsup', 'paid', 'activities', 'nursery',\n",
      "       'higher', 'internet', 'romantic', 'famrel', 'freetime', 'goout', 'Dalc',\n",
      "       'Walc', 'health', 'absences', 'G1', 'G2', 'G3'],\n",
      "      dtype='object')\n"
     ]
    }
   ],
   "source": [
    "df = pd.read_csv('student-por.csv')\n",
    "print(df.columns)\n",
    "df.columns = ['school', 'sex', 'age', 'rural', 'big_family', 'divorced', 'mom_edu', 'dad_edu',\n",
    "       'mom_job', 'dad_job', 'reason_for_school', 'guardian', 'travel_time', 'study_time',\n",
    "       'failures', 'extra_school_support', 'extra_family_support', 'paid', 'extracurricular', 'preschool',\n",
    "       'college', 'internet_access', 'dating', 'home_life', 'free_time', 'party', 'wd_drinker',\n",
    "       'weekend_drinker', 'health', 'absences', 'fall_grade', 'spring_grade', 'final_grade']\n",
    "dictionary = pd.read_csv('dict.csv')\n",
    "dictionary.drop([\"Unnamed: 2\"], 1)\n",
    "dictionary['col'] = df.columns\n"
   ]
  },
  {
   "cell_type": "markdown",
   "metadata": {},
   "source": [
    "# Transform data to readable format"
   ]
  },
  {
   "cell_type": "code",
   "execution_count": 3,
   "metadata": {
    "collapsed": true
   },
   "outputs": [],
   "source": [
    "original_data = df.copy()\n",
    "df = df.replace(['yes', 'no'], [1,0])\n",
    "df.divorced = df.divorced.replace([\"A\", \"T\"], [1,0])\n",
    "df.big_family = df.big_family.replace([\"LE3\", \"GT3\"], [0,1])\n",
    "df.rural = df.rural.replace([\"U\",\"R\"], [0,1])\n",
    "df.sex = df.sex.replace([\"M\",\"F\"], [0,1])\n",
    "df.school = df.school.replace([\"GP\",\"MS\"], [1,2])\n",
    "df.guardian = df.guardian.replace([\"mother\",\"father\", \"other\"], [1,2,3])\n",
    "df.mom_job = df.mom_job.replace([\"teacher\",\"health\",\"services\",\"at_home\",\"other\"], [1,2,3,4,5])\n",
    "df.dad_job = df.dad_job.replace([\"teacher\",\"health\",\"services\",\"at_home\",\"other\"], [1,2,3,4,5])\n",
    "df.reason_for_school = df.reason_for_school.replace([\"home\",\"reputation\", \"course\",\"other\"], [1,2,3,4])\n",
    "df['index'] = df.index\n",
    "df[\"risk_score\"] = df.wd_drinker * df.weekend_drinker\n",
    "\n",
    "\n",
    "df['school_GP'] = df.school.replace([1,2], [1,0])#[\"GP\",\"MS\"], [1,2])\n",
    "df['school_MS'] = df.school.replace([1,2], [0,1])\n",
    "\n",
    "df['guard_mom'] = df.guardian.replace([1,2,3], [1,0,0])#[\"mother\",\"father\", \"other\"], [1,2,3])\n",
    "df['guard_dad'] = df.guardian.replace([1,2,3],[0,1,0])#[\"mother\",\"father\", \"other\"], [1,2,3])\n",
    "df['guard_other'] = df.guardian.replace([1,2,3], [0,0,1])#[\"mother\",\"father\", \"other\"], [1,2,3])\n",
    "\n",
    "#[\"teacher\",\"health\",\"services\",\"at_home\",\"other\"], [1,2,3,4,5])\n",
    "df['mom_teach'] = df.mom_job.replace([1,2,3,4,5], [1,0,0,0,0])\n",
    "df['mom_health'] = df.mom_job.replace([1,2,3,4,5], [0,1,0,0,0])\n",
    "df['mom_service'] = df.mom_job.replace([1,2,3,4,5], [0,0,1,0,0])\n",
    "df['mom_home'] = df.mom_job.replace([1,2,3,4,5], [0,0,0,1,0])\n",
    "df['mom_other'] = df.mom_job.replace([1,2,3,4,5], [0,0,0,0,1])\n",
    "\n",
    "df['dad_teach'] = df.dad_job.replace([1,2,3,4,5], [1,0,0,0,0])\n",
    "df['dad_health'] = df.dad_job.replace([1,2,3,4,5], [0,1,0,0,0])\n",
    "df['dad_service'] = df.dad_job.replace([1,2,3,4,5], [0,0,1,0,0])\n",
    "df['dad_home'] = df.dad_job.replace([1,2,3,4,5], [0,0,0,1,0])\n",
    "df['dad_other'] = df.dad_job.replace([1,2,3,4,5], [0,0,0,0,1])\n",
    "\n",
    "#df.reason_for_school = df.reason_for_school.replace([\"home\",\"reputation\", \"course\",\"other\"], [1,2,3,4])\n",
    "df['reason_home'] = df.reason_for_school.replace([1,2,3,4], [1,0,0,0])\n",
    "df['reason_rep'] = df.reason_for_school.replace([1,2,3,4], [0,1,0,0])\n",
    "df['reason_course'] = df.reason_for_school.replace([1,2,3,4], [0,0,1,0])\n",
    "df['reason_other'] = df.reason_for_school.replace([1,2,3,4], [0,0,0,1])"
   ]
  },
  {
   "cell_type": "markdown",
   "metadata": {},
   "source": [
    "# Build dictionary for translation"
   ]
  },
  {
   "cell_type": "code",
   "execution_count": 4,
   "metadata": {
    "collapsed": false
   },
   "outputs": [],
   "source": [
    "dictionary.columns = ['original_name', 'meaning', 'classes', 'col']\n",
    "dictionary = dictionary.replace(np.nan, '', regex=True)\n",
    "dictionary  = dictionary.set_value(5, 'classes', \"1 = divorced\")\n",
    "dictionary  = dictionary.set_value(4, 'classes', \"1 = >3\")\n",
    "dictionary  = dictionary.set_value(3, 'classes', \"1 = rural\")\n",
    "dictionary  = dictionary.set_value(1, 'classes', \"0=male, 1=female\")\n",
    "dictionary  = dictionary.set_value(0, 'classes', \"1=GP 1=MS\")\n",
    "dictionary  = dictionary.set_value(11, 'classes', \"1=mother, 2=father, 3=other\")\n",
    "dictionary  = dictionary.set_value(8, 'classes', \"1=teacher, 2=health 3=services 4=at_home 5=other\")\n",
    "dictionary  = dictionary.set_value(9, 'classes', \"1=teacher, 2=health 3=services 4=at_home 5=other\")\n",
    "dictionary  = dictionary.set_value(10, 'classes', \"1=close to home, 2=reputation 3=course4 =other\")\n",
    "pd.set_option('display.max_colwidth', -1)"
   ]
  },
  {
   "cell_type": "code",
   "execution_count": 5,
   "metadata": {
    "collapsed": false
   },
   "outputs": [],
   "source": [
    "#make sure all columns are numerical\n",
    "for col in df.columns:\n",
    "    if not(isinstance(df[col][0], numbers.Integral)):\n",
    "        print(col)"
   ]
  },
  {
   "cell_type": "code",
   "execution_count": 6,
   "metadata": {
    "collapsed": false
   },
   "outputs": [
    {
     "data": {
      "image/png": "[encoded data removed]",
      "text/plain": [
       "<matplotlib.figure.Figure at 0x7fe450adbb70>"
      ]
     },
     "metadata": {},
     "output_type": "display_data"
    },
    {
     "name": "stdout",
     "output_type": "stream",
     "text": [
      "[   0.  451.  121.   43.   34.]\n",
      "[   0.  247.  150.  120.  132.]\n"
     ]
    }
   ],
   "source": [
    "bins=np.arange(0, 6)\n",
    "x =plt.hist(df.wd_drinker,facecolor ='red', alpha=.5, bins=bins)\n",
    "y =plt.hist(df.weekend_drinker,facecolor ='blue',alpha=.3, bins=bins)\n",
    "plt.style.use('fivethirtyeight')\n",
    "plt.style.use('ggplot') \n",
    "plt.show()\n",
    "print(x[0])\n",
    "print(y[0])"
   ]
  },
  {
   "cell_type": "code",
   "execution_count": 7,
   "metadata": {
    "collapsed": false,
    "scrolled": true
   },
   "outputs": [
    {
     "data": {
      "image/png": "[encoded data removed]",
      "text/plain": [
       "<matplotlib.figure.Figure at 0x7fe44d681128>"
      ]
     },
     "metadata": {},
     "output_type": "display_data"
    }
   ],
   "source": [
    "face = []\n",
    "for i in df.index:\n",
    "    face.append((df.iloc[i].weekend_drinker,df.iloc[i].wd_drinker))\n",
    "letter_counts = Counter(face)\n",
    "no = pd.DataFrame.from_dict(letter_counts, orient='index')\n",
    "x=[]\n",
    "y=[]\n",
    "s=[]\n",
    "no.columns = [\"tuples\"]\n",
    "for i in range(len(no.index)):\n",
    "    x.append(no.index[i][0])\n",
    "    y.append(no.index[i][1])\n",
    "    s.append(5000*no.tuples[i]/241)\n",
    "plt.scatter(x, y, s)\n",
    "plt.xlim(0,6)\n",
    "plt.ylim(0,6)\n",
    "plt.xlabel(\"we_response\", fontsize=15)\n",
    "plt.ylabel(\"wd_response\", fontsize=15)\n",
    "plt.title('Boozin Dist')\n",
    "plt.grid(True)\n",
    "plt.show()"
   ]
  },
  {
   "cell_type": "markdown",
   "metadata": {},
   "source": [
    "# Potential metrics and distributions"
   ]
  },
  {
   "cell_type": "code",
   "execution_count": 8,
   "metadata": {
    "collapsed": false
   },
   "outputs": [
    {
     "data": {
      "image/png": "[encoded data removed]",
      "text/plain": [
       "<matplotlib.figure.Figure at 0x7fe450a832e8>"
      ]
     },
     "metadata": {},
     "output_type": "display_data"
    },
    {
     "data": {
      "image/png": "[encoded data removed]",
      "text/plain": [
       "<matplotlib.figure.Figure at 0x7fe450ae6a58>"
      ]
     },
     "metadata": {},
     "output_type": "display_data"
    },
    {
     "data": {
      "image/png": "[encoded data removed]",
      "text/plain": [
       "<matplotlib.figure.Figure at 0x7fe44d5b0e80>"
      ]
     },
     "metadata": {},
     "output_type": "display_data"
    }
   ],
   "source": [
    "df[\"we*wd\"] = df.wd_drinker * df.weekend_drinker\n",
    "df[\"wd/we\"] = df.wd_drinker / df.weekend_drinker\n",
    "df[\"we/2twd/5\"] = df.wd_drinker/5 + df.weekend_drinker/2\n",
    "df[\"wetwd\"] = df.wd_drinker + df.weekend_drinker\n",
    "df[\"2wdtwe\"] = 2*df.wd_drinker + df.weekend_drinker\n",
    "\n",
    "handles = [\"we + wd\", \"2wd + we\", \"we * wd\", \"wd/we\",\"we/2 + we/5\"]\n",
    "binwidth = .05\n",
    "bins=np.arange(0, 3.5, .05)\n",
    "\n",
    "plt.hist(df[\"wetwd\"], normed=1,facecolor ='blue', alpha =.7)\n",
    "plt.hist(df[\"2wdtwe\"], normed=1,facecolor ='black', alpha =.7)\n",
    "plt.grid(True)\n",
    "plt.legend(handles[0:2])\n",
    "plt.show()\n",
    "plt.hist(df[\"we*wd\"],normed=1, facecolor='yellow', alpha=.75)\n",
    "plt.grid(True)\n",
    "plt.legend(handles[2:3])\n",
    "plt.show()\n",
    "plt.xlim(0,3)\n",
    "plt.hist(df[\"wd/we\"], normed=True, facecolor ='green', alpha =.7)#, bins=bins)\n",
    "plt.hist(df[\"we/2twd/5\"],normed=True,facecolor ='red', alpha =.7)#, bins=bins)\n",
    "plt.grid(True)\n",
    "plt.legend(handles[3:])\n",
    "plt.show()"
   ]
  },
  {
   "cell_type": "markdown",
   "metadata": {},
   "source": [
    "# Label data "
   ]
  },
  {
   "cell_type": "code",
   "execution_count": 147,
   "metadata": {
    "collapsed": false
   },
   "outputs": [
    {
     "name": "stdout",
     "output_type": "stream",
     "text": [
      "high_risk: 50\n",
      "low_risk: 206\n",
      "no_risk: 393\n"
     ]
    }
   ],
   "source": [
    "#https://www.sciencedaily.com/releases/2010/05/100531190855.htm\n",
    "#http://www.who.int/substance_abuse/publications/global_alcohol_report/profiles/prt.pdf\n",
    "#prolly should label top 10% as high risk, and bottom 60 as no risk.\n",
    "metric = ['we/2twd/5']\n",
    "l0 = df[df['we/2twd/5'] > 2.6]\n",
    "l1 = df[(df['we/2twd/5'] <= 2.6) & (df['we/2twd/5'] > 1.4)]\n",
    "l2 = df[df['we/2twd/5'] <= 1.4]\n",
    "labels = ['high_risk', 'low_risk', 'no_risk']\n",
    "ls = []\n",
    "for r in range(len(df)):\n",
    "    if df.loc[r]['index'] in l0.index:\n",
    "        ls.append(labels[0])\n",
    "    elif df.loc[r]['index'] in l1.index:\n",
    "        ls.append(labels[1])\n",
    "    elif df.loc[r]['index'] in l2.index:\n",
    "        ls.append(labels[2])\n",
    "    else: \n",
    "        print('something went wrong')\n",
    "        \n",
    "df['label'] = ls\n",
    "print(labels[0] +': '+ str(len(df.loc[df.label == labels[0]])))\n",
    "print(labels[1] +': '+ str(len(df.loc[df.label == labels[1]])))\n",
    "print(labels[2] +': '+ str(len(df.loc[df.label == labels[2]])))\n"
   ]
  },
  {
   "cell_type": "code",
   "execution_count": 9,
   "metadata": {
    "collapsed": false,
    "scrolled": true
   },
   "outputs": [
    {
     "name": "stdout",
     "output_type": "stream",
     "text": [
      "high_risk: 65\n",
      "low_risk: 194\n",
      "no_risk: 390\n"
     ]
    }
   ],
   "source": [
    "#https://www.sciencedaily.com/releases/2010/05/100531190855.htm\n",
    "#http://www.who.int/substance_abuse/publications/global_alcohol_report/profiles/prt.pdf\n",
    "#prolly should label top 10% as high risk, and bottom 60 as no risk.\n",
    "metric = ['we/2twd/5']\n",
    "l0 = df.sort_values(metric, ascending=[1])[-65:]\n",
    "l1 = df.sort_values(metric, ascending=[1])[390:600]\n",
    "l2 = df.sort_values(metric, ascending=[1])[:390]\n",
    "labels = ['high_risk', 'low_risk', 'no_risk']\n",
    "ls = []\n",
    "for r in range(len(df)):\n",
    "    if df.loc[r]['index'] in l0.index:\n",
    "        ls.append(labels[0])\n",
    "    elif df.loc[r]['index'] in l1.index:\n",
    "        ls.append(labels[1])\n",
    "    elif df.loc[r]['index'] in l2.index:\n",
    "        ls.append(labels[2])\n",
    "    else: \n",
    "        print('something went wrong')\n",
    "        \n",
    "df['label'] = ls\n",
    "print(labels[0] +': '+ str(len(df.loc[df.label == labels[0]])))\n",
    "print(labels[1] +': '+ str(len(df.loc[df.label == labels[1]])))\n",
    "print(labels[2] +': '+ str(len(df.loc[df.label == labels[2]])))\n"
   ]
  },
  {
   "cell_type": "markdown",
   "metadata": {},
   "source": [
    "# Seperate training data and test data randomly"
   ]
  },
  {
   "cell_type": "code",
   "execution_count": 10,
   "metadata": {
    "collapsed": false
   },
   "outputs": [
    {
     "name": "stdout",
     "output_type": "stream",
     "text": [
      "649\n"
     ]
    }
   ],
   "source": [
    "test = df.sample(n=round(len(df)/3), replace=False,random_state=6)\n",
    "train = df[~df.index.isin(test.index)]\n",
    "print(len(train)+ len(test))"
   ]
  },
  {
   "cell_type": "code",
   "execution_count": 11,
   "metadata": {
    "collapsed": false
   },
   "outputs": [],
   "source": [
    "cols = [ 'sex', 'age', 'rural', 'big_family', 'divorced', 'mom_edu',\n",
    "       'dad_edu','travel_time', 'study_time', 'failures', 'extra_school_support',\n",
    "       'extra_family_support', 'paid', 'extracurricular', 'preschool',\n",
    "       'college', 'internet_access', 'dating', 'home_life', 'free_time',\n",
    "       'party', 'health', 'absences',\n",
    "       'fall_grade', 'spring_grade', 'final_grade',\n",
    "       'school_GP', 'school_MS', \n",
    "       'guard_mom', 'guard_dad', 'guard_other',\n",
    "       'mom_teach', 'mom_health', 'mom_service', 'mom_home', 'mom_other',\n",
    "       'dad_teach', 'dad_health', 'dad_service', 'dad_home', 'dad_other',\n",
    "       'reason_home', 'reason_rep', 'reason_course', 'reason_other'\n",
    "       ] \n",
    "#       'we*wd', 'wd/we', 'we/2twd/5', 'wetwd', '2wdtwe', 'label']"
   ]
  },
  {
   "cell_type": "code",
   "execution_count": 12,
   "metadata": {
    "collapsed": false
   },
   "outputs": [
    {
     "data": {
      "text/plain": [
       "14"
      ]
     },
     "execution_count": 12,
     "metadata": {},
     "output_type": "execute_result"
    }
   ],
   "source": [
    "cols = ['divorced', 'mom_edu',\n",
    "       'dad_edu','study_time', 'failures', 'extra_school_support',\n",
    "       'extra_family_support', 'extracurricular', \n",
    "       'college', 'dating', 'home_life', 'free_time',\n",
    "       'health', 'absences']\n",
    "len(cols)"
   ]
  },
  {
   "cell_type": "code",
   "execution_count": 13,
   "metadata": {
    "collapsed": false,
    "scrolled": true
   },
   "outputs": [
    {
     "data": {
      "text/plain": [
       "14"
      ]
     },
     "execution_count": 13,
     "metadata": {},
     "output_type": "execute_result"
    }
   ],
   "source": [
    "cols = ['divorced', 'mom_edu',\n",
    "       'dad_edu','study_time', 'failures', 'extra_school_support',\n",
    "       'extra_family_support', 'extracurricular', \n",
    "       'college', 'dating', 'home_life', 'free_time',\n",
    "       'health', 'absences']\n",
    "len(cols)"
   ]
  },
  {
   "cell_type": "code",
   "execution_count": 17,
   "metadata": {
    "collapsed": false
   },
   "outputs": [
    {
     "name": "stdout",
     "output_type": "stream",
     "text": [
      "                            OLS Regression Results                            \n",
      "==============================================================================\n",
      "Dep. Variable:              we/2twd/5   R-squared:                       0.770\n",
      "Model:                            OLS   Adj. R-squared:                  0.766\n",
      "Method:                 Least Squares   F-statistic:                     237.9\n",
      "Date:                Wed, 03 May 2017   Prob (F-statistic):          9.49e-133\n",
      "Time:                        19:17:35   Log-Likelihood:                -510.88\n",
      "No. Observations:                 433   AIC:                             1034.\n",
      "Df Residuals:                     427   BIC:                             1058.\n",
      "Df Model:                           6                                         \n",
      "Covariance Type:            nonrobust                                         \n",
      "========================================================================================\n",
      "                           coef    std err          t      P>|t|      [95.0% Conf. Int.]\n",
      "----------------------------------------------------------------------------------------\n",
      "home_life                0.0824      0.030      2.792      0.005         0.024     0.140\n",
      "failures                 0.1397      0.072      1.934      0.054        -0.002     0.282\n",
      "extra_school_support    -0.0994      0.117     -0.853      0.394        -0.329     0.130\n",
      "free_time                0.2125      0.034      6.255      0.000         0.146     0.279\n",
      "absences                 0.0289      0.008      3.516      0.000         0.013     0.045\n",
      "mom_edu                  0.1119      0.031      3.616      0.000         0.051     0.173\n",
      "==============================================================================\n",
      "Omnibus:                       29.965   Durbin-Watson:                   1.854\n",
      "Prob(Omnibus):                  0.000   Jarque-Bera (JB):               34.877\n",
      "Skew:                           0.695   Prob(JB):                     2.67e-08\n",
      "Kurtosis:                       3.022   Cond. No.                         22.5\n",
      "==============================================================================\n",
      "\n",
      "Warnings:\n",
      "[1] Standard Errors assume that the covariance matrix of the errors is correctly specified.\n",
      "MSE 0.0005123472250295693\n",
      "                            OLS Regression Results                            \n",
      "==============================================================================\n",
      "Dep. Variable:              we/2twd/5   R-squared:                       0.739\n",
      "Model:                            OLS   Adj. R-squared:                  0.738\n",
      "Method:                 Least Squares   F-statistic:                     1220.\n",
      "Date:                Wed, 03 May 2017   Prob (F-statistic):          6.61e-128\n",
      "Time:                        19:17:35   Log-Likelihood:                -538.40\n",
      "No. Observations:                 433   AIC:                             1079.\n",
      "Df Residuals:                     432   BIC:                             1083.\n",
      "Df Model:                           1                                         \n",
      "Covariance Type:            nonrobust                                         \n",
      "==============================================================================\n",
      "                 coef    std err          t      P>|t|      [95.0% Conf. Int.]\n",
      "------------------------------------------------------------------------------\n",
      "free_time      0.4174      0.012     34.929      0.000         0.394     0.441\n",
      "==============================================================================\n",
      "Omnibus:                       26.627   Durbin-Watson:                   1.787\n",
      "Prob(Omnibus):                  0.000   Jarque-Bera (JB):               29.782\n",
      "Skew:                           0.623   Prob(JB):                     3.41e-07\n",
      "Kurtosis:                       3.312   Cond. No.                         1.00\n",
      "==============================================================================\n",
      "\n",
      "Warnings:\n",
      "[1] Standard Errors assume that the covariance matrix of the errors is correctly specified.\n",
      "MSE 0.01850881755936887\n",
      "0.017996470334339303\n"
     ]
    },
    {
     "name": "stderr",
     "output_type": "stream",
     "text": [
      "/home/kurt.bognar/anaconda3/lib/python3.6/site-packages/ipykernel/__main__.py:15: SettingWithCopyWarning: \n",
      "A value is trying to be set on a copy of a slice from a DataFrame.\n",
      "Try using .loc[row_indexer,col_indexer] = value instead\n",
      "\n",
      "See the caveats in the documentation: http://pandas.pydata.org/pandas-docs/stable/indexing.html#indexing-view-versus-copy\n",
      "/home/kurt.bognar/anaconda3/lib/python3.6/site-packages/ipykernel/__main__.py:34: SettingWithCopyWarning: \n",
      "A value is trying to be set on a copy of a slice from a DataFrame.\n",
      "Try using .loc[row_indexer,col_indexer] = value instead\n",
      "\n",
      "See the caveats in the documentation: http://pandas.pydata.org/pandas-docs/stable/indexing.html#indexing-view-versus-copy\n"
     ]
    }
   ],
   "source": [
    "#['we*wd', 'we/2twd/5', 'wetwd', '2wdtwe']\n",
    "cols=['home_life', 'failures', 'extra_school_support', 'free_time', 'absences', 'mom_edu']\n",
    "#cols =['free_time']\n",
    "metric = ['we/2twd/5']\n",
    "x_train = train[cols]\n",
    "x_test = test[cols]\n",
    "#print(x_test.shape)\n",
    "#print(x_test.columns)\n",
    "y_train = train[metric]\n",
    "y_test = test[metric]\n",
    "\n",
    "# Train the model using training sets, using Ordinary Least Square method\n",
    "results = sm.OLS(y_train, x_train).fit()\n",
    "print(results.summary())\n",
    "y_test['preds'] = results.predict(x_test)\n",
    "a = y_test['preds'] - y_test['we/2twd/5']\n",
    "b1= (np.mean(a))**2\n",
    "print(\"MSE \"+ str(b1))\n",
    "\n",
    "#['we*wd', 'we/2twd/5', 'wetwd', '2wdtwe']\n",
    "#cols=['home_life', 'failures', 'extra_school_support', 'free_time', 'absences', 'mom_edu']\n",
    "cols =['free_time']\n",
    "metric = ['we/2twd/5']\n",
    "x_train = train[cols]\n",
    "x_test = test[cols]\n",
    "#print(x_test.shape)\n",
    "#print(x_test.columns)\n",
    "y_train = train[metric]\n",
    "y_test = test[metric]\n",
    "\n",
    "# Train the model using training sets, using Ordinary Least Square method\n",
    "results = sm.OLS(y_train, x_train).fit()\n",
    "print(results.summary())\n",
    "y_test['preds'] = results.predict(x_test)\n",
    "a = y_test['preds'] - y_test['we/2twd/5']\n",
    "b2= (np.mean(a))**2\n",
    "print(\"MSE \"+ str(b2))\n",
    "print(b2-b1)"
   ]
  },
  {
   "cell_type": "code",
   "execution_count": 15,
   "metadata": {
    "collapsed": false,
    "scrolled": false
   },
   "outputs": [
    {
     "name": "stdout",
     "output_type": "stream",
     "text": [
      "                            OLS Regression Results                            \n",
      "==============================================================================\n",
      "Dep. Variable:                  wetwd   R-squared:                       0.774\n",
      "Model:                            OLS   Adj. R-squared:                  0.771\n",
      "Method:                 Least Squares   F-statistic:                     244.4\n",
      "Date:                Wed, 03 May 2017   Prob (F-statistic):          1.15e-134\n",
      "Time:                        19:16:55   Log-Likelihood:                -925.58\n",
      "No. Observations:                 433   AIC:                             1863.\n",
      "Df Residuals:                     427   BIC:                             1888.\n",
      "Df Model:                           6                                         \n",
      "Covariance Type:            nonrobust                                         \n",
      "========================================================================================\n",
      "                           coef    std err          t      P>|t|      [95.0% Conf. Int.]\n",
      "----------------------------------------------------------------------------------------\n",
      "home_life                0.2268      0.077      2.948      0.003         0.076     0.378\n",
      "failures                 0.3483      0.188      1.851      0.065        -0.022     0.718\n",
      "extra_school_support    -0.1870      0.304     -0.615      0.539        -0.784     0.410\n",
      "free_time                0.5431      0.089      6.134      0.000         0.369     0.717\n",
      "absences                 0.0830      0.021      3.882      0.000         0.041     0.125\n",
      "mom_edu                  0.2932      0.081      3.635      0.000         0.135     0.452\n",
      "==============================================================================\n",
      "Omnibus:                       56.616   Durbin-Watson:                   1.855\n",
      "Prob(Omnibus):                  0.000   Jarque-Bera (JB):               75.892\n",
      "Skew:                           0.950   Prob(JB):                     3.31e-17\n",
      "Kurtosis:                       3.773   Cond. No.                         22.5\n",
      "==============================================================================\n",
      "\n",
      "Warnings:\n",
      "[1] Standard Errors assume that the covariance matrix of the errors is correctly specified.\n",
      "MSE 1.5942699239421253e-06\n",
      "                            OLS Regression Results                            \n",
      "==============================================================================\n",
      "Dep. Variable:                  wetwd   R-squared:                       0.741\n",
      "Model:                            OLS   Adj. R-squared:                  0.741\n",
      "Method:                 Least Squares   F-statistic:                     1237.\n",
      "Date:                Wed, 03 May 2017   Prob (F-statistic):          7.24e-129\n",
      "Time:                        19:16:55   Log-Likelihood:                -955.38\n",
      "No. Observations:                 433   AIC:                             1913.\n",
      "Df Residuals:                     432   BIC:                             1917.\n",
      "Df Model:                           1                                         \n",
      "Covariance Type:            nonrobust                                         \n",
      "==============================================================================\n",
      "                 coef    std err          t      P>|t|      [95.0% Conf. Int.]\n",
      "------------------------------------------------------------------------------\n",
      "free_time      1.1010      0.031     35.172      0.000         1.039     1.163\n",
      "==============================================================================\n",
      "Omnibus:                       48.545   Durbin-Watson:                   1.787\n",
      "Prob(Omnibus):                  0.000   Jarque-Bera (JB):               63.840\n",
      "Skew:                           0.828   Prob(JB):                     1.37e-14\n",
      "Kurtosis:                       3.891   Cond. No.                         1.00\n",
      "==============================================================================\n",
      "\n",
      "Warnings:\n",
      "[1] Standard Errors assume that the covariance matrix of the errors is correctly specified.\n",
      "MSE 0.09064722750274241\n",
      "0.09064563323281848\n"
     ]
    },
    {
     "name": "stderr",
     "output_type": "stream",
     "text": [
      "/home/kurt.bognar/anaconda3/lib/python3.6/site-packages/ipykernel/__main__.py:15: SettingWithCopyWarning: \n",
      "A value is trying to be set on a copy of a slice from a DataFrame.\n",
      "Try using .loc[row_indexer,col_indexer] = value instead\n",
      "\n",
      "See the caveats in the documentation: http://pandas.pydata.org/pandas-docs/stable/indexing.html#indexing-view-versus-copy\n",
      "/home/kurt.bognar/anaconda3/lib/python3.6/site-packages/ipykernel/__main__.py:32: SettingWithCopyWarning: \n",
      "A value is trying to be set on a copy of a slice from a DataFrame.\n",
      "Try using .loc[row_indexer,col_indexer] = value instead\n",
      "\n",
      "See the caveats in the documentation: http://pandas.pydata.org/pandas-docs/stable/indexing.html#indexing-view-versus-copy\n"
     ]
    }
   ],
   "source": [
    "#['we*wd', 'we/2twd/5', 'wetwd', '2wdtwe']\n",
    "cols=['home_life', 'failures', 'extra_school_support', 'free_time', 'absences', 'mom_edu']\n",
    "#cols =['free_time']\n",
    "metric = ['wetwd']\n",
    "x_train = train[cols]\n",
    "x_test = test[cols]\n",
    "#print(x_test.shape)\n",
    "#print(x_test.columns)\n",
    "y_train = train[metric]\n",
    "y_test = test[metric]\n",
    "\n",
    "# Train the model using training sets, using Ordinary Least Square method\n",
    "results = sm.OLS(y_train, x_train).fit()\n",
    "print(results.summary())\n",
    "y_test['preds'] = results.predict(x_test)\n",
    "a = y_test['preds'] - y_test['wetwd']\n",
    "b1= (np.mean(a))**2\n",
    "print(\"MSE \"+ str(b1))\n",
    "\n",
    "\n",
    "cols =['free_time']\n",
    "x_train = train[cols]\n",
    "x_test = test[cols]\n",
    "#print(x_test.shape)\n",
    "#print(x_test.columns)\n",
    "y_train = train[metric]\n",
    "y_test = test[metric]\n",
    "\n",
    "# Train the model using training sets, using Ordinary Least Square method\n",
    "results = sm.OLS(y_train, x_train).fit()\n",
    "print(results.summary())\n",
    "y_test['preds'] = results.predict(x_test)\n",
    "a = y_test['preds'] - y_test['wetwd']\n",
    "b2= (np.mean(a))**2\n",
    "print(\"MSE \"+ str(b2))\n",
    "print(b2-b1)"
   ]
  },
  {
   "cell_type": "code",
   "execution_count": 16,
   "metadata": {
    "collapsed": false
   },
   "outputs": [
    {
     "name": "stdout",
     "output_type": "stream",
     "text": [
      "MSE 0.09064722750274241\n"
     ]
    },
    {
     "name": "stderr",
     "output_type": "stream",
     "text": [
      "/home/kurt.bognar/anaconda3/lib/python3.6/site-packages/ipykernel/__main__.py:1: SettingWithCopyWarning: \n",
      "A value is trying to be set on a copy of a slice from a DataFrame.\n",
      "Try using .loc[row_indexer,col_indexer] = value instead\n",
      "\n",
      "See the caveats in the documentation: http://pandas.pydata.org/pandas-docs/stable/indexing.html#indexing-view-versus-copy\n",
      "  if __name__ == '__main__':\n"
     ]
    }
   ],
   "source": [
    "y_test['pgreds'] = results.predict(x_test)\n",
    "a = y_test['preds'] - y_test['wetwd']\n",
    "b1= (np.mean(a))**2\n",
    "print(\"MSE \"+ str(b1))"
   ]
  },
  {
   "cell_type": "code",
   "execution_count": 24,
   "metadata": {
    "collapsed": false,
    "scrolled": false
   },
   "outputs": [
    {
     "name": "stdout",
     "output_type": "stream",
     "text": [
      "                            OLS Regression Results                            \n",
      "==============================================================================\n",
      "Dep. Variable:              we/2twd/5   R-squared:                       0.770\n",
      "Model:                            OLS   Adj. R-squared:                  0.766\n",
      "Method:                 Least Squares   F-statistic:                     237.9\n",
      "Date:                Wed, 03 May 2017   Prob (F-statistic):          9.49e-133\n",
      "Time:                        19:21:42   Log-Likelihood:                -510.88\n",
      "No. Observations:                 433   AIC:                             1034.\n",
      "Df Residuals:                     427   BIC:                             1058.\n",
      "Df Model:                           6                                         \n",
      "Covariance Type:            nonrobust                                         \n",
      "========================================================================================\n",
      "                           coef    std err          t      P>|t|      [95.0% Conf. Int.]\n",
      "----------------------------------------------------------------------------------------\n",
      "home_life                0.0824      0.030      2.792      0.005         0.024     0.140\n",
      "failures                 0.1397      0.072      1.934      0.054        -0.002     0.282\n",
      "extra_school_support    -0.0994      0.117     -0.853      0.394        -0.329     0.130\n",
      "free_time                0.2125      0.034      6.255      0.000         0.146     0.279\n",
      "absences                 0.0289      0.008      3.516      0.000         0.013     0.045\n",
      "mom_edu                  0.1119      0.031      3.616      0.000         0.051     0.173\n",
      "==============================================================================\n",
      "Omnibus:                       29.965   Durbin-Watson:                   1.854\n",
      "Prob(Omnibus):                  0.000   Jarque-Bera (JB):               34.877\n",
      "Skew:                           0.695   Prob(JB):                     2.67e-08\n",
      "Kurtosis:                       3.022   Cond. No.                         22.5\n",
      "==============================================================================\n",
      "\n",
      "Warnings:\n",
      "[1] Standard Errors assume that the covariance matrix of the errors is correctly specified.\n",
      "MSE 0.0005123472250295693\n"
     ]
    },
    {
     "name": "stderr",
     "output_type": "stream",
     "text": [
      "/home/kurt.bognar/anaconda3/lib/python3.6/site-packages/ipykernel/__main__.py:14: SettingWithCopyWarning: \n",
      "A value is trying to be set on a copy of a slice from a DataFrame.\n",
      "Try using .loc[row_indexer,col_indexer] = value instead\n",
      "\n",
      "See the caveats in the documentation: http://pandas.pydata.org/pandas-docs/stable/indexing.html#indexing-view-versus-copy\n"
     ]
    },
    {
     "data": {
      "text/plain": [
       "420    1.054561\n",
       "539    1.185956\n",
       "582    1.044481\n",
       "243    0.896132\n",
       "91     2.013109\n",
       "349    1.172864\n",
       "382    1.148161\n",
       "169    1.524941\n",
       "106    0.864392\n",
       "325    2.474800\n",
       "59     1.260065\n",
       "134    1.378924\n",
       "228    1.457901\n",
       "309    1.825272\n",
       "629    1.537273\n",
       "390    1.576761\n",
       "223    1.627435\n",
       "376    1.504264\n",
       "43     1.386592\n",
       "248    1.267021\n",
       "646    0.579993\n",
       "160    1.087488\n",
       "351    2.089919\n",
       "162    1.616168\n",
       "407    1.611913\n",
       "212    2.207739\n",
       "436    1.546862\n",
       "196    1.486041\n",
       "461    0.866642\n",
       "2      1.152867\n",
       "         ...   \n",
       "448    1.375487\n",
       "507    1.079183\n",
       "28     1.343666\n",
       "607    1.417779\n",
       "41     1.940694\n",
       "409    1.562691\n",
       "418    1.058714\n",
       "111    0.893882\n",
       "135    1.354303\n",
       "599    1.819425\n",
       "11     1.060960\n",
       "314    1.479561\n",
       "411    1.685146\n",
       "288    1.248798\n",
       "364    1.555020\n",
       "600    0.982065\n",
       "366    1.285955\n",
       "465    1.608726\n",
       "524    1.148161\n",
       "343    1.414894\n",
       "568    1.542607\n",
       "580    1.546862\n",
       "140    1.655657\n",
       "156    1.291724\n",
       "131    2.193747\n",
       "378    1.302990\n",
       "510    1.273501\n",
       "299    0.962148\n",
       "190    1.321213\n",
       "594    1.414894\n",
       "Name: preds, dtype: float64"
      ]
     },
     "execution_count": 24,
     "metadata": {},
     "output_type": "execute_result"
    }
   ],
   "source": [
    "cols=['home_life', 'failures', 'extra_school_support', 'free_time', 'absences', 'mom_edu']\n",
    "#cols =['free_time']\n",
    "metric = ['we/2twd/5']\n",
    "x_train = train[cols]\n",
    "x_test = test[cols]\n",
    "#print(x_test.shape)\n",
    "#print(x_test.columns)\n",
    "y_train = train[metric]\n",
    "y_test = test[metric]\n",
    "\n",
    "# Train the model using training sets, using Ordinary Least Square method\n",
    "results = sm.OLS(y_train, x_train).fit()\n",
    "print(results.summary())\n",
    "y_test['preds'] = results.predict(x_test)\n",
    "a = y_test['preds'] - y_test['we/2twd/5']\n",
    "b1= (np.mean(a))**2\n",
    "print(\"MSE \"+ str(b1))\n",
    "y_test['preds']"
   ]
  },
  {
   "cell_type": "code",
   "execution_count": 68,
   "metadata": {
    "collapsed": false
   },
   "outputs": [],
   "source": [
    "cols = ['home_life',\n",
    " 'failures',\n",
    " 'extra_school_support',\n",
    " 'free_time',\n",
    " 'absences',\n",
    " 'mom_edu', 'label', 'preds']\n",
    "\n",
    "#df.loc[df['index'].isin(y_test.index)][cols]"
   ]
  },
  {
   "cell_type": "code",
   "execution_count": 69,
   "metadata": {
    "collapsed": false
   },
   "outputs": [],
   "source": [
    "x = pd.concat([df, y_test], axis=1, join='inner', copy=True)[cols]"
   ]
  },
  {
   "cell_type": "code",
   "execution_count": 70,
   "metadata": {
    "collapsed": false
   },
   "outputs": [
    {
     "data": {
      "text/html": [
       "<div>\n",
       "<table border=\"1\" class=\"dataframe\">\n",
       "  <thead>\n",
       "    <tr style=\"text-align: right;\">\n",
       "      <th></th>\n",
       "      <th>home_life</th>\n",
       "      <th>failures</th>\n",
       "      <th>extra_school_support</th>\n",
       "      <th>free_time</th>\n",
       "      <th>absences</th>\n",
       "      <th>mom_edu</th>\n",
       "      <th>label</th>\n",
       "      <th>preds</th>\n",
       "    </tr>\n",
       "  </thead>\n",
       "  <tbody>\n",
       "    <tr>\n",
       "      <th>420</th>\n",
       "      <td>4</td>\n",
       "      <td>0</td>\n",
       "      <td>0</td>\n",
       "      <td>1</td>\n",
       "      <td>10</td>\n",
       "      <td>2</td>\n",
       "      <td>low_risk</td>\n",
       "      <td>1.054561</td>\n",
       "    </tr>\n",
       "    <tr>\n",
       "      <th>539</th>\n",
       "      <td>1</td>\n",
       "      <td>0</td>\n",
       "      <td>0</td>\n",
       "      <td>2</td>\n",
       "      <td>8</td>\n",
       "      <td>4</td>\n",
       "      <td>low_risk</td>\n",
       "      <td>1.185956</td>\n",
       "    </tr>\n",
       "    <tr>\n",
       "      <th>582</th>\n",
       "      <td>1</td>\n",
       "      <td>0</td>\n",
       "      <td>0</td>\n",
       "      <td>4</td>\n",
       "      <td>0</td>\n",
       "      <td>1</td>\n",
       "      <td>no_risk</td>\n",
       "      <td>1.044481</td>\n",
       "    </tr>\n",
       "    <tr>\n",
       "      <th>243</th>\n",
       "      <td>3</td>\n",
       "      <td>0</td>\n",
       "      <td>0</td>\n",
       "      <td>2</td>\n",
       "      <td>0</td>\n",
       "      <td>2</td>\n",
       "      <td>no_risk</td>\n",
       "      <td>0.896132</td>\n",
       "    </tr>\n",
       "    <tr>\n",
       "      <th>91</th>\n",
       "      <td>4</td>\n",
       "      <td>0</td>\n",
       "      <td>0</td>\n",
       "      <td>5</td>\n",
       "      <td>6</td>\n",
       "      <td>4</td>\n",
       "      <td>low_risk</td>\n",
       "      <td>2.013109</td>\n",
       "    </tr>\n",
       "    <tr>\n",
       "      <th>349</th>\n",
       "      <td>5</td>\n",
       "      <td>0</td>\n",
       "      <td>0</td>\n",
       "      <td>2</td>\n",
       "      <td>0</td>\n",
       "      <td>3</td>\n",
       "      <td>no_risk</td>\n",
       "      <td>1.172864</td>\n",
       "    </tr>\n",
       "    <tr>\n",
       "      <th>382</th>\n",
       "      <td>4</td>\n",
       "      <td>0</td>\n",
       "      <td>0</td>\n",
       "      <td>2</td>\n",
       "      <td>2</td>\n",
       "      <td>3</td>\n",
       "      <td>high_risk</td>\n",
       "      <td>1.148161</td>\n",
       "    </tr>\n",
       "    <tr>\n",
       "      <th>169</th>\n",
       "      <td>2</td>\n",
       "      <td>3</td>\n",
       "      <td>0</td>\n",
       "      <td>2</td>\n",
       "      <td>14</td>\n",
       "      <td>1</td>\n",
       "      <td>low_risk</td>\n",
       "      <td>1.524941</td>\n",
       "    </tr>\n",
       "    <tr>\n",
       "      <th>106</th>\n",
       "      <td>5</td>\n",
       "      <td>0</td>\n",
       "      <td>1</td>\n",
       "      <td>1</td>\n",
       "      <td>4</td>\n",
       "      <td>2</td>\n",
       "      <td>no_risk</td>\n",
       "      <td>0.864392</td>\n",
       "    </tr>\n",
       "    <tr>\n",
       "      <th>325</th>\n",
       "      <td>4</td>\n",
       "      <td>0</td>\n",
       "      <td>0</td>\n",
       "      <td>5</td>\n",
       "      <td>22</td>\n",
       "      <td>4</td>\n",
       "      <td>low_risk</td>\n",
       "      <td>2.474800</td>\n",
       "    </tr>\n",
       "    <tr>\n",
       "      <th>59</th>\n",
       "      <td>4</td>\n",
       "      <td>0</td>\n",
       "      <td>0</td>\n",
       "      <td>2</td>\n",
       "      <td>2</td>\n",
       "      <td>4</td>\n",
       "      <td>no_risk</td>\n",
       "      <td>1.260065</td>\n",
       "    </tr>\n",
       "    <tr>\n",
       "      <th>134</th>\n",
       "      <td>3</td>\n",
       "      <td>0</td>\n",
       "      <td>0</td>\n",
       "      <td>4</td>\n",
       "      <td>2</td>\n",
       "      <td>2</td>\n",
       "      <td>low_risk</td>\n",
       "      <td>1.378924</td>\n",
       "    </tr>\n",
       "    <tr>\n",
       "      <th>228</th>\n",
       "      <td>5</td>\n",
       "      <td>0</td>\n",
       "      <td>0</td>\n",
       "      <td>2</td>\n",
       "      <td>6</td>\n",
       "      <td>4</td>\n",
       "      <td>no_risk</td>\n",
       "      <td>1.457901</td>\n",
       "    </tr>\n",
       "    <tr>\n",
       "      <th>309</th>\n",
       "      <td>5</td>\n",
       "      <td>0</td>\n",
       "      <td>0</td>\n",
       "      <td>4</td>\n",
       "      <td>4</td>\n",
       "      <td>4</td>\n",
       "      <td>low_risk</td>\n",
       "      <td>1.825272</td>\n",
       "    </tr>\n",
       "    <tr>\n",
       "      <th>629</th>\n",
       "      <td>3</td>\n",
       "      <td>0</td>\n",
       "      <td>0</td>\n",
       "      <td>5</td>\n",
       "      <td>4</td>\n",
       "      <td>1</td>\n",
       "      <td>low_risk</td>\n",
       "      <td>1.537273</td>\n",
       "    </tr>\n",
       "    <tr>\n",
       "      <th>390</th>\n",
       "      <td>4</td>\n",
       "      <td>0</td>\n",
       "      <td>0</td>\n",
       "      <td>4</td>\n",
       "      <td>6</td>\n",
       "      <td>2</td>\n",
       "      <td>no_risk</td>\n",
       "      <td>1.576761</td>\n",
       "    </tr>\n",
       "    <tr>\n",
       "      <th>223</th>\n",
       "      <td>4</td>\n",
       "      <td>0</td>\n",
       "      <td>0</td>\n",
       "      <td>4</td>\n",
       "      <td>0</td>\n",
       "      <td>4</td>\n",
       "      <td>no_risk</td>\n",
       "      <td>1.627435</td>\n",
       "    </tr>\n",
       "    <tr>\n",
       "      <th>376</th>\n",
       "      <td>4</td>\n",
       "      <td>0</td>\n",
       "      <td>0</td>\n",
       "      <td>5</td>\n",
       "      <td>0</td>\n",
       "      <td>1</td>\n",
       "      <td>no_risk</td>\n",
       "      <td>1.504264</td>\n",
       "    </tr>\n",
       "    <tr>\n",
       "      <th>43</th>\n",
       "      <td>5</td>\n",
       "      <td>0</td>\n",
       "      <td>1</td>\n",
       "      <td>4</td>\n",
       "      <td>0</td>\n",
       "      <td>2</td>\n",
       "      <td>no_risk</td>\n",
       "      <td>1.386592</td>\n",
       "    </tr>\n",
       "    <tr>\n",
       "      <th>248</th>\n",
       "      <td>3</td>\n",
       "      <td>0</td>\n",
       "      <td>0</td>\n",
       "      <td>4</td>\n",
       "      <td>2</td>\n",
       "      <td>1</td>\n",
       "      <td>no_risk</td>\n",
       "      <td>1.267021</td>\n",
       "    </tr>\n",
       "    <tr>\n",
       "      <th>646</th>\n",
       "      <td>1</td>\n",
       "      <td>0</td>\n",
       "      <td>0</td>\n",
       "      <td>1</td>\n",
       "      <td>6</td>\n",
       "      <td>1</td>\n",
       "      <td>no_risk</td>\n",
       "      <td>0.579993</td>\n",
       "    </tr>\n",
       "    <tr>\n",
       "      <th>160</th>\n",
       "      <td>2</td>\n",
       "      <td>0</td>\n",
       "      <td>0</td>\n",
       "      <td>3</td>\n",
       "      <td>6</td>\n",
       "      <td>1</td>\n",
       "      <td>low_risk</td>\n",
       "      <td>1.087488</td>\n",
       "    </tr>\n",
       "    <tr>\n",
       "      <th>351</th>\n",
       "      <td>5</td>\n",
       "      <td>2</td>\n",
       "      <td>0</td>\n",
       "      <td>5</td>\n",
       "      <td>0</td>\n",
       "      <td>3</td>\n",
       "      <td>no_risk</td>\n",
       "      <td>2.089919</td>\n",
       "    </tr>\n",
       "    <tr>\n",
       "      <th>162</th>\n",
       "      <td>4</td>\n",
       "      <td>0</td>\n",
       "      <td>0</td>\n",
       "      <td>5</td>\n",
       "      <td>0</td>\n",
       "      <td>2</td>\n",
       "      <td>high_risk</td>\n",
       "      <td>1.616168</td>\n",
       "    </tr>\n",
       "    <tr>\n",
       "      <th>407</th>\n",
       "      <td>3</td>\n",
       "      <td>2</td>\n",
       "      <td>0</td>\n",
       "      <td>3</td>\n",
       "      <td>0</td>\n",
       "      <td>4</td>\n",
       "      <td>no_risk</td>\n",
       "      <td>1.611913</td>\n",
       "    </tr>\n",
       "    <tr>\n",
       "      <th>212</th>\n",
       "      <td>4</td>\n",
       "      <td>1</td>\n",
       "      <td>0</td>\n",
       "      <td>2</td>\n",
       "      <td>30</td>\n",
       "      <td>4</td>\n",
       "      <td>low_risk</td>\n",
       "      <td>2.207739</td>\n",
       "    </tr>\n",
       "    <tr>\n",
       "      <th>436</th>\n",
       "      <td>4</td>\n",
       "      <td>1</td>\n",
       "      <td>0</td>\n",
       "      <td>4</td>\n",
       "      <td>4</td>\n",
       "      <td>1</td>\n",
       "      <td>no_risk</td>\n",
       "      <td>1.546862</td>\n",
       "    </tr>\n",
       "    <tr>\n",
       "      <th>196</th>\n",
       "      <td>5</td>\n",
       "      <td>0</td>\n",
       "      <td>0</td>\n",
       "      <td>4</td>\n",
       "      <td>0</td>\n",
       "      <td>2</td>\n",
       "      <td>low_risk</td>\n",
       "      <td>1.486041</td>\n",
       "    </tr>\n",
       "    <tr>\n",
       "      <th>461</th>\n",
       "      <td>4</td>\n",
       "      <td>0</td>\n",
       "      <td>0</td>\n",
       "      <td>2</td>\n",
       "      <td>0</td>\n",
       "      <td>1</td>\n",
       "      <td>low_risk</td>\n",
       "      <td>0.866642</td>\n",
       "    </tr>\n",
       "    <tr>\n",
       "      <th>2</th>\n",
       "      <td>4</td>\n",
       "      <td>0</td>\n",
       "      <td>1</td>\n",
       "      <td>3</td>\n",
       "      <td>6</td>\n",
       "      <td>1</td>\n",
       "      <td>low_risk</td>\n",
       "      <td>1.152867</td>\n",
       "    </tr>\n",
       "    <tr>\n",
       "      <th>...</th>\n",
       "      <td>...</td>\n",
       "      <td>...</td>\n",
       "      <td>...</td>\n",
       "      <td>...</td>\n",
       "      <td>...</td>\n",
       "      <td>...</td>\n",
       "      <td>...</td>\n",
       "      <td>...</td>\n",
       "    </tr>\n",
       "    <tr>\n",
       "      <th>448</th>\n",
       "      <td>4</td>\n",
       "      <td>0</td>\n",
       "      <td>0</td>\n",
       "      <td>2</td>\n",
       "      <td>6</td>\n",
       "      <td>4</td>\n",
       "      <td>no_risk</td>\n",
       "      <td>1.375487</td>\n",
       "    </tr>\n",
       "    <tr>\n",
       "      <th>507</th>\n",
       "      <td>4</td>\n",
       "      <td>0</td>\n",
       "      <td>0</td>\n",
       "      <td>3</td>\n",
       "      <td>0</td>\n",
       "      <td>1</td>\n",
       "      <td>no_risk</td>\n",
       "      <td>1.079183</td>\n",
       "    </tr>\n",
       "    <tr>\n",
       "      <th>28</th>\n",
       "      <td>5</td>\n",
       "      <td>0</td>\n",
       "      <td>1</td>\n",
       "      <td>3</td>\n",
       "      <td>2</td>\n",
       "      <td>3</td>\n",
       "      <td>no_risk</td>\n",
       "      <td>1.343666</td>\n",
       "    </tr>\n",
       "    <tr>\n",
       "      <th>607</th>\n",
       "      <td>5</td>\n",
       "      <td>0</td>\n",
       "      <td>0</td>\n",
       "      <td>3</td>\n",
       "      <td>5</td>\n",
       "      <td>2</td>\n",
       "      <td>no_risk</td>\n",
       "      <td>1.417779</td>\n",
       "    </tr>\n",
       "    <tr>\n",
       "      <th>41</th>\n",
       "      <td>5</td>\n",
       "      <td>0</td>\n",
       "      <td>0</td>\n",
       "      <td>4</td>\n",
       "      <td>8</td>\n",
       "      <td>4</td>\n",
       "      <td>low_risk</td>\n",
       "      <td>1.940694</td>\n",
       "    </tr>\n",
       "    <tr>\n",
       "      <th>409</th>\n",
       "      <td>4</td>\n",
       "      <td>0</td>\n",
       "      <td>0</td>\n",
       "      <td>3</td>\n",
       "      <td>9</td>\n",
       "      <td>3</td>\n",
       "      <td>low_risk</td>\n",
       "      <td>1.562691</td>\n",
       "    </tr>\n",
       "    <tr>\n",
       "      <th>418</th>\n",
       "      <td>3</td>\n",
       "      <td>0</td>\n",
       "      <td>0</td>\n",
       "      <td>1</td>\n",
       "      <td>13</td>\n",
       "      <td>2</td>\n",
       "      <td>high_risk</td>\n",
       "      <td>1.058714</td>\n",
       "    </tr>\n",
       "    <tr>\n",
       "      <th>111</th>\n",
       "      <td>4</td>\n",
       "      <td>0</td>\n",
       "      <td>1</td>\n",
       "      <td>1</td>\n",
       "      <td>4</td>\n",
       "      <td>3</td>\n",
       "      <td>no_risk</td>\n",
       "      <td>0.893882</td>\n",
       "    </tr>\n",
       "    <tr>\n",
       "      <th>135</th>\n",
       "      <td>3</td>\n",
       "      <td>0</td>\n",
       "      <td>0</td>\n",
       "      <td>2</td>\n",
       "      <td>12</td>\n",
       "      <td>3</td>\n",
       "      <td>low_risk</td>\n",
       "      <td>1.354303</td>\n",
       "    </tr>\n",
       "    <tr>\n",
       "      <th>599</th>\n",
       "      <td>2</td>\n",
       "      <td>0</td>\n",
       "      <td>0</td>\n",
       "      <td>5</td>\n",
       "      <td>5</td>\n",
       "      <td>4</td>\n",
       "      <td>no_risk</td>\n",
       "      <td>1.819425</td>\n",
       "    </tr>\n",
       "    <tr>\n",
       "      <th>11</th>\n",
       "      <td>5</td>\n",
       "      <td>0</td>\n",
       "      <td>0</td>\n",
       "      <td>2</td>\n",
       "      <td>0</td>\n",
       "      <td>2</td>\n",
       "      <td>no_risk</td>\n",
       "      <td>1.060960</td>\n",
       "    </tr>\n",
       "    <tr>\n",
       "      <th>314</th>\n",
       "      <td>3</td>\n",
       "      <td>0</td>\n",
       "      <td>0</td>\n",
       "      <td>5</td>\n",
       "      <td>2</td>\n",
       "      <td>1</td>\n",
       "      <td>no_risk</td>\n",
       "      <td>1.479561</td>\n",
       "    </tr>\n",
       "    <tr>\n",
       "      <th>411</th>\n",
       "      <td>4</td>\n",
       "      <td>0</td>\n",
       "      <td>0</td>\n",
       "      <td>4</td>\n",
       "      <td>2</td>\n",
       "      <td>4</td>\n",
       "      <td>no_risk</td>\n",
       "      <td>1.685146</td>\n",
       "    </tr>\n",
       "    <tr>\n",
       "      <th>288</th>\n",
       "      <td>4</td>\n",
       "      <td>0</td>\n",
       "      <td>0</td>\n",
       "      <td>3</td>\n",
       "      <td>2</td>\n",
       "      <td>2</td>\n",
       "      <td>low_risk</td>\n",
       "      <td>1.248798</td>\n",
       "    </tr>\n",
       "    <tr>\n",
       "      <th>364</th>\n",
       "      <td>5</td>\n",
       "      <td>0</td>\n",
       "      <td>0</td>\n",
       "      <td>3</td>\n",
       "      <td>2</td>\n",
       "      <td>4</td>\n",
       "      <td>no_risk</td>\n",
       "      <td>1.555020</td>\n",
       "    </tr>\n",
       "    <tr>\n",
       "      <th>600</th>\n",
       "      <td>4</td>\n",
       "      <td>0</td>\n",
       "      <td>0</td>\n",
       "      <td>2</td>\n",
       "      <td>4</td>\n",
       "      <td>1</td>\n",
       "      <td>high_risk</td>\n",
       "      <td>0.982065</td>\n",
       "    </tr>\n",
       "    <tr>\n",
       "      <th>366</th>\n",
       "      <td>5</td>\n",
       "      <td>0</td>\n",
       "      <td>1</td>\n",
       "      <td>3</td>\n",
       "      <td>0</td>\n",
       "      <td>3</td>\n",
       "      <td>no_risk</td>\n",
       "      <td>1.285955</td>\n",
       "    </tr>\n",
       "    <tr>\n",
       "      <th>465</th>\n",
       "      <td>3</td>\n",
       "      <td>1</td>\n",
       "      <td>0</td>\n",
       "      <td>4</td>\n",
       "      <td>9</td>\n",
       "      <td>1</td>\n",
       "      <td>low_risk</td>\n",
       "      <td>1.608726</td>\n",
       "    </tr>\n",
       "    <tr>\n",
       "      <th>524</th>\n",
       "      <td>4</td>\n",
       "      <td>0</td>\n",
       "      <td>0</td>\n",
       "      <td>2</td>\n",
       "      <td>2</td>\n",
       "      <td>3</td>\n",
       "      <td>no_risk</td>\n",
       "      <td>1.148161</td>\n",
       "    </tr>\n",
       "    <tr>\n",
       "      <th>343</th>\n",
       "      <td>4</td>\n",
       "      <td>0</td>\n",
       "      <td>0</td>\n",
       "      <td>3</td>\n",
       "      <td>0</td>\n",
       "      <td>4</td>\n",
       "      <td>no_risk</td>\n",
       "      <td>1.414894</td>\n",
       "    </tr>\n",
       "    <tr>\n",
       "      <th>568</th>\n",
       "      <td>3</td>\n",
       "      <td>3</td>\n",
       "      <td>0</td>\n",
       "      <td>2</td>\n",
       "      <td>4</td>\n",
       "      <td>3</td>\n",
       "      <td>no_risk</td>\n",
       "      <td>1.542607</td>\n",
       "    </tr>\n",
       "    <tr>\n",
       "      <th>580</th>\n",
       "      <td>4</td>\n",
       "      <td>1</td>\n",
       "      <td>0</td>\n",
       "      <td>4</td>\n",
       "      <td>4</td>\n",
       "      <td>1</td>\n",
       "      <td>low_risk</td>\n",
       "      <td>1.546862</td>\n",
       "    </tr>\n",
       "    <tr>\n",
       "      <th>140</th>\n",
       "      <td>5</td>\n",
       "      <td>0</td>\n",
       "      <td>0</td>\n",
       "      <td>4</td>\n",
       "      <td>2</td>\n",
       "      <td>3</td>\n",
       "      <td>low_risk</td>\n",
       "      <td>1.655657</td>\n",
       "    </tr>\n",
       "    <tr>\n",
       "      <th>156</th>\n",
       "      <td>4</td>\n",
       "      <td>0</td>\n",
       "      <td>0</td>\n",
       "      <td>4</td>\n",
       "      <td>0</td>\n",
       "      <td>1</td>\n",
       "      <td>no_risk</td>\n",
       "      <td>1.291724</td>\n",
       "    </tr>\n",
       "    <tr>\n",
       "      <th>131</th>\n",
       "      <td>5</td>\n",
       "      <td>3</td>\n",
       "      <td>0</td>\n",
       "      <td>4</td>\n",
       "      <td>10</td>\n",
       "      <td>2</td>\n",
       "      <td>low_risk</td>\n",
       "      <td>2.193747</td>\n",
       "    </tr>\n",
       "    <tr>\n",
       "      <th>378</th>\n",
       "      <td>4</td>\n",
       "      <td>0</td>\n",
       "      <td>0</td>\n",
       "      <td>3</td>\n",
       "      <td>0</td>\n",
       "      <td>3</td>\n",
       "      <td>high_risk</td>\n",
       "      <td>1.302990</td>\n",
       "    </tr>\n",
       "    <tr>\n",
       "      <th>510</th>\n",
       "      <td>5</td>\n",
       "      <td>0</td>\n",
       "      <td>0</td>\n",
       "      <td>3</td>\n",
       "      <td>0</td>\n",
       "      <td>2</td>\n",
       "      <td>no_risk</td>\n",
       "      <td>1.273501</td>\n",
       "    </tr>\n",
       "    <tr>\n",
       "      <th>299</th>\n",
       "      <td>1</td>\n",
       "      <td>0</td>\n",
       "      <td>0</td>\n",
       "      <td>2</td>\n",
       "      <td>8</td>\n",
       "      <td>2</td>\n",
       "      <td>no_risk</td>\n",
       "      <td>0.962148</td>\n",
       "    </tr>\n",
       "    <tr>\n",
       "      <th>190</th>\n",
       "      <td>3</td>\n",
       "      <td>0</td>\n",
       "      <td>0</td>\n",
       "      <td>4</td>\n",
       "      <td>0</td>\n",
       "      <td>2</td>\n",
       "      <td>low_risk</td>\n",
       "      <td>1.321213</td>\n",
       "    </tr>\n",
       "    <tr>\n",
       "      <th>594</th>\n",
       "      <td>4</td>\n",
       "      <td>0</td>\n",
       "      <td>0</td>\n",
       "      <td>3</td>\n",
       "      <td>0</td>\n",
       "      <td>4</td>\n",
       "      <td>no_risk</td>\n",
       "      <td>1.414894</td>\n",
       "    </tr>\n",
       "  </tbody>\n",
       "</table>\n",
       "<p>216 rows × 8 columns</p>\n",
       "</div>"
      ],
      "text/plain": [
       "     home_life  failures  extra_school_support  free_time  absences  mom_edu  \\\n",
       "420  4          0         0                     1          10        2         \n",
       "539  1          0         0                     2          8         4         \n",
       "582  1          0         0                     4          0         1         \n",
       "243  3          0         0                     2          0         2         \n",
       "91   4          0         0                     5          6         4         \n",
       "349  5          0         0                     2          0         3         \n",
       "382  4          0         0                     2          2         3         \n",
       "169  2          3         0                     2          14        1         \n",
       "106  5          0         1                     1          4         2         \n",
       "325  4          0         0                     5          22        4         \n",
       "59   4          0         0                     2          2         4         \n",
       "134  3          0         0                     4          2         2         \n",
       "228  5          0         0                     2          6         4         \n",
       "309  5          0         0                     4          4         4         \n",
       "629  3          0         0                     5          4         1         \n",
       "390  4          0         0                     4          6         2         \n",
       "223  4          0         0                     4          0         4         \n",
       "376  4          0         0                     5          0         1         \n",
       "43   5          0         1                     4          0         2         \n",
       "248  3          0         0                     4          2         1         \n",
       "646  1          0         0                     1          6         1         \n",
       "160  2          0         0                     3          6         1         \n",
       "351  5          2         0                     5          0         3         \n",
       "162  4          0         0                     5          0         2         \n",
       "407  3          2         0                     3          0         4         \n",
       "212  4          1         0                     2          30        4         \n",
       "436  4          1         0                     4          4         1         \n",
       "196  5          0         0                     4          0         2         \n",
       "461  4          0         0                     2          0         1         \n",
       "2    4          0         1                     3          6         1         \n",
       "..  ..         ..        ..                    ..         ..        ..         \n",
       "448  4          0         0                     2          6         4         \n",
       "507  4          0         0                     3          0         1         \n",
       "28   5          0         1                     3          2         3         \n",
       "607  5          0         0                     3          5         2         \n",
       "41   5          0         0                     4          8         4         \n",
       "409  4          0         0                     3          9         3         \n",
       "418  3          0         0                     1          13        2         \n",
       "111  4          0         1                     1          4         3         \n",
       "135  3          0         0                     2          12        3         \n",
       "599  2          0         0                     5          5         4         \n",
       "11   5          0         0                     2          0         2         \n",
       "314  3          0         0                     5          2         1         \n",
       "411  4          0         0                     4          2         4         \n",
       "288  4          0         0                     3          2         2         \n",
       "364  5          0         0                     3          2         4         \n",
       "600  4          0         0                     2          4         1         \n",
       "366  5          0         1                     3          0         3         \n",
       "465  3          1         0                     4          9         1         \n",
       "524  4          0         0                     2          2         3         \n",
       "343  4          0         0                     3          0         4         \n",
       "568  3          3         0                     2          4         3         \n",
       "580  4          1         0                     4          4         1         \n",
       "140  5          0         0                     4          2         3         \n",
       "156  4          0         0                     4          0         1         \n",
       "131  5          3         0                     4          10        2         \n",
       "378  4          0         0                     3          0         3         \n",
       "510  5          0         0                     3          0         2         \n",
       "299  1          0         0                     2          8         2         \n",
       "190  3          0         0                     4          0         2         \n",
       "594  4          0         0                     3          0         4         \n",
       "\n",
       "         label     preds  \n",
       "420  low_risk   1.054561  \n",
       "539  low_risk   1.185956  \n",
       "582  no_risk    1.044481  \n",
       "243  no_risk    0.896132  \n",
       "91   low_risk   2.013109  \n",
       "349  no_risk    1.172864  \n",
       "382  high_risk  1.148161  \n",
       "169  low_risk   1.524941  \n",
       "106  no_risk    0.864392  \n",
       "325  low_risk   2.474800  \n",
       "59   no_risk    1.260065  \n",
       "134  low_risk   1.378924  \n",
       "228  no_risk    1.457901  \n",
       "309  low_risk   1.825272  \n",
       "629  low_risk   1.537273  \n",
       "390  no_risk    1.576761  \n",
       "223  no_risk    1.627435  \n",
       "376  no_risk    1.504264  \n",
       "43   no_risk    1.386592  \n",
       "248  no_risk    1.267021  \n",
       "646  no_risk    0.579993  \n",
       "160  low_risk   1.087488  \n",
       "351  no_risk    2.089919  \n",
       "162  high_risk  1.616168  \n",
       "407  no_risk    1.611913  \n",
       "212  low_risk   2.207739  \n",
       "436  no_risk    1.546862  \n",
       "196  low_risk   1.486041  \n",
       "461  low_risk   0.866642  \n",
       "2    low_risk   1.152867  \n",
       "..        ...        ...  \n",
       "448  no_risk    1.375487  \n",
       "507  no_risk    1.079183  \n",
       "28   no_risk    1.343666  \n",
       "607  no_risk    1.417779  \n",
       "41   low_risk   1.940694  \n",
       "409  low_risk   1.562691  \n",
       "418  high_risk  1.058714  \n",
       "111  no_risk    0.893882  \n",
       "135  low_risk   1.354303  \n",
       "599  no_risk    1.819425  \n",
       "11   no_risk    1.060960  \n",
       "314  no_risk    1.479561  \n",
       "411  no_risk    1.685146  \n",
       "288  low_risk   1.248798  \n",
       "364  no_risk    1.555020  \n",
       "600  high_risk  0.982065  \n",
       "366  no_risk    1.285955  \n",
       "465  low_risk   1.608726  \n",
       "524  no_risk    1.148161  \n",
       "343  no_risk    1.414894  \n",
       "568  no_risk    1.542607  \n",
       "580  low_risk   1.546862  \n",
       "140  low_risk   1.655657  \n",
       "156  no_risk    1.291724  \n",
       "131  low_risk   2.193747  \n",
       "378  high_risk  1.302990  \n",
       "510  no_risk    1.273501  \n",
       "299  no_risk    0.962148  \n",
       "190  low_risk   1.321213  \n",
       "594  no_risk    1.414894  \n",
       "\n",
       "[216 rows x 8 columns]"
      ]
     },
     "execution_count": 70,
     "metadata": {},
     "output_type": "execute_result"
    }
   ],
   "source": [
    "x.loc[x.label == 'no_risk' & x.preds >]"
   ]
  },
  {
   "cell_type": "code",
   "execution_count": 142,
   "metadata": {
    "collapsed": false
   },
   "outputs": [],
   "source": [
    "df[\"class\"] = \"\""
   ]
  },
  {
   "cell_type": "code",
   "execution_count": 143,
   "metadata": {
    "collapsed": false
   },
   "outputs": [
    {
     "name": "stderr",
     "output_type": "stream",
     "text": [
      "/home/kurt.bognar/anaconda3/lib/python3.6/site-packages/ipykernel/__main__.py:1: SettingWithCopyWarning: \n",
      "A value is trying to be set on a copy of a slice from a DataFrame.\n",
      "Try using .loc[row_indexer,col_indexer] = value instead\n",
      "\n",
      "See the caveats in the documentation: http://pandas.pydata.org/pandas-docs/stable/indexing.html#indexing-view-versus-copy\n",
      "  if __name__ == '__main__':\n",
      "/home/kurt.bognar/anaconda3/lib/python3.6/site-packages/ipykernel/__main__.py:3: SettingWithCopyWarning: \n",
      "A value is trying to be set on a copy of a slice from a DataFrame.\n",
      "Try using .loc[row_indexer,col_indexer] = value instead\n",
      "\n",
      "See the caveats in the documentation: http://pandas.pydata.org/pandas-docs/stable/indexing.html#indexing-view-versus-copy\n",
      "  app.launch_new_instance()\n",
      "/home/kurt.bognar/anaconda3/lib/python3.6/site-packages/ipykernel/__main__.py:5: SettingWithCopyWarning: \n",
      "A value is trying to be set on a copy of a slice from a DataFrame.\n",
      "Try using .loc[row_indexer,col_indexer] = value instead\n",
      "\n",
      "See the caveats in the documentation: http://pandas.pydata.org/pandas-docs/stable/indexing.html#indexing-view-versus-copy\n"
     ]
    }
   ],
   "source": [
    "df[df['we/2twd/5'] > 2.6]['class'] = len(df.loc[df['we/2twd/5'] > 2.6])*['high_risk']\n",
    "\n",
    "df[(df['we/2twd/5'] < 2.6) & (df['we/2twd/5'] > 1.4)]['class'] = len(df.loc[(df['we/2twd/5'] < 2.6) & (df['we/2twd/5'] > 1.4)])*['low_risk']\n",
    "\n",
    "df[df['we/2twd/5'] <1.4]['class'] = len(df.loc[df['we/2twd/5'] < 1.4])*['no_risk']"
   ]
  },
  {
   "cell_type": "code",
   "execution_count": 151,
   "metadata": {
    "collapsed": false
   },
   "outputs": [
    {
     "name": "stdout",
     "output_type": "stream",
     "text": [
      "we/2twd/5    1.4\n",
      "dtype: float64\n",
      "we/2twd/5    1.5\n",
      "dtype: float64\n",
      "we/2twd/5    2.6\n",
      "dtype: float64\n",
      "we/2twd/5    2.7\n",
      "dtype: float64\n"
     ]
    }
   ],
   "source": [
    "#https://www.sciencedaily.com/releases/2010/05/100531190855.htm\n",
    "#http://www.who.int/substance_abuse/publications/global_alcohol_report/profiles/prt.pdf\n",
    "#prolly should label top 10% as high risk, and bottom 60 as no risk.\n",
    "print(df.loc[df.label == 'no_risk'][metric].max())\n",
    "print(df.loc[df.label == 'low_risk'][metric].min())\n",
    "print(df.loc[df.label == 'low_risk'][metric].max())\n",
    "print(df.loc[df.label == 'high_risk'][metric].min())"
   ]
  },
  {
   "cell_type": "code",
   "execution_count": 161,
   "metadata": {
    "collapsed": false
   },
   "outputs": [
    {
     "data": {
      "text/plain": [
       "Index(['school', 'sex', 'age', 'rural', 'big_family', 'divorced', 'mom_edu',\n",
       "       'dad_edu', 'mom_job', 'dad_job', 'reason_for_school', 'guardian',\n",
       "       'travel_time', 'study_time', 'failures', 'extra_school_support',\n",
       "       'extra_family_support', 'paid', 'extracurricular', 'preschool',\n",
       "       'college', 'internet_access', 'dating', 'home_life', 'free_time',\n",
       "       'party', 'wd_drinker', 'weekend_drinker', 'health', 'absences',\n",
       "       'fall_grade', 'spring_grade', 'final_grade', 'index', 'risk_score',\n",
       "       'school_GP', 'school_MS', 'guard_mom', 'guard_dad', 'guard_other',\n",
       "       'mom_teach', 'mom_health', 'mom_service', 'mom_home', 'mom_other',\n",
       "       'dad_teach', 'dad_health', 'dad_service', 'dad_home', 'dad_other',\n",
       "       'reason_home', 'reason_rep', 'reason_course', 'reason_other', 'we*wd',\n",
       "       'wd/we', 'we/2twd/5', 'wetwd', '2wdtwe', 'class', 'label'],\n",
       "      dtype='object')"
      ]
     },
     "execution_count": 161,
     "metadata": {},
     "output_type": "execute_result"
    }
   ],
   "source": [
    "df.columns"
   ]
  },
  {
   "cell_type": "code",
   "execution_count": 165,
   "metadata": {
    "collapsed": false
   },
   "outputs": [
    {
     "data": {
      "text/plain": [
       "['home_life',\n",
       " 'failures',\n",
       " 'extra_school_support',\n",
       " 'free_time',\n",
       " 'absences',\n",
       " 'mom_edu',\n",
       " 'label',\n",
       " 'we/2twd/5']"
      ]
     },
     "execution_count": 165,
     "metadata": {},
     "output_type": "execute_result"
    }
   ],
   "source": [
    "cols"
   ]
  },
  {
   "cell_type": "code",
   "execution_count": 166,
   "metadata": {
    "collapsed": true
   },
   "outputs": [],
   "source": [
    "x = pd.concat([df, y_test], axis=1, join='inner', copy=True)"
   ]
  },
  {
   "cell_type": "code",
   "execution_count": 167,
   "metadata": {
    "collapsed": false
   },
   "outputs": [
    {
     "data": {
      "text/plain": [
       "Index(['school', 'sex', 'age', 'rural', 'big_family', 'divorced', 'mom_edu',\n",
       "       'dad_edu', 'mom_job', 'dad_job', 'reason_for_school', 'guardian',\n",
       "       'travel_time', 'study_time', 'failures', 'extra_school_support',\n",
       "       'extra_family_support', 'paid', 'extracurricular', 'preschool',\n",
       "       'college', 'internet_access', 'dating', 'home_life', 'free_time',\n",
       "       'party', 'wd_drinker', 'weekend_drinker', 'health', 'absences',\n",
       "       'fall_grade', 'spring_grade', 'final_grade', 'index', 'risk_score',\n",
       "       'school_GP', 'school_MS', 'guard_mom', 'guard_dad', 'guard_other',\n",
       "       'mom_teach', 'mom_health', 'mom_service', 'mom_home', 'mom_other',\n",
       "       'dad_teach', 'dad_health', 'dad_service', 'dad_home', 'dad_other',\n",
       "       'reason_home', 'reason_rep', 'reason_course', 'reason_other', 'we*wd',\n",
       "       'wd/we', 'we/2twd/5', 'wetwd', '2wdtwe', 'class', 'label', 'we/2twd/5',\n",
       "       'preds'],\n",
       "      dtype='object')"
      ]
     },
     "execution_count": 167,
     "metadata": {},
     "output_type": "execute_result"
    }
   ],
   "source": [
    "x.columns"
   ]
  },
  {
   "cell_type": "code",
   "execution_count": 187,
   "metadata": {
    "collapsed": false
   },
   "outputs": [
    {
     "data": {
      "text/plain": [
       "16"
      ]
     },
     "execution_count": 187,
     "metadata": {},
     "output_type": "execute_result"
    }
   ],
   "source": [
    "len(x[x.label == 'high_risk'])\n"
   ]
  },
  {
   "cell_type": "code",
   "execution_count": 188,
   "metadata": {
    "collapsed": false
   },
   "outputs": [
    {
     "data": {
      "text/plain": [
       "70"
      ]
     },
     "execution_count": 188,
     "metadata": {},
     "output_type": "execute_result"
    }
   ],
   "source": [
    "len(x[x.label == 'low_risk'])"
   ]
  },
  {
   "cell_type": "code",
   "execution_count": 189,
   "metadata": {
    "collapsed": false
   },
   "outputs": [
    {
     "data": {
      "text/plain": [
       "130"
      ]
     },
     "execution_count": 189,
     "metadata": {},
     "output_type": "execute_result"
    }
   ],
   "source": [
    "len(x[x.label == 'no_risk'])"
   ]
  },
  {
   "cell_type": "code",
   "execution_count": 191,
   "metadata": {
    "collapsed": false
   },
   "outputs": [
    {
     "name": "stdout",
     "output_type": "stream",
     "text": [
      "0\n",
      "0\n",
      "0\n",
      "9\n",
      "30\n",
      "48\n",
      "7\n",
      "40\n",
      "82\n"
     ]
    }
   ],
   "source": [
    "print(len(x.loc[(x['preds']>2.7) & (x.label == 'high_risk')]))\n",
    "print(len(x.loc[(x['preds']>2.7)&(x.label == 'low_risk')]))\n",
    "print(len(x.loc[(x['preds']>2.7)&(x.label == 'no_risk')]))\n",
    "\n",
    "\n",
    "print(len(x.loc[(x['preds']<2.7)&(x.label == 'high_risk')&(x['preds']>=1.5)]))\n",
    "print(len(x.loc[(x['preds']<2.7)&(x.label == 'low_risk')&(x['preds']>=1.5)]))\n",
    "print(len(x.loc[(x['preds']<2.7)&(x.label == 'no_risk')&(x['preds']>=1.5)]))\n",
    "\n",
    "print(len(x.loc[(x['preds']<1.5)&(x.label == 'high_risk')]))\n",
    "print(len(x.loc[(x['preds']<1.5)&(x.label == 'low_risk')]))\n",
    "print(len(x.loc[(x['preds']<1.5)&(x.label == 'no_risk')]))"
   ]
  },
  {
   "cell_type": "code",
   "execution_count": 98,
   "metadata": {
    "collapsed": false
   },
   "outputs": [],
   "source": [
    "cols =['home_life',\n",
    " 'failures',\n",
    " 'extra_school_support',\n",
    " 'free_time',\n",
    " 'absences',\n",
    " 'mom_edu',\n",
    " 'label', 'we/2twd/5']\n"
   ]
  },
  {
   "cell_type": "code",
   "execution_count": null,
   "metadata": {
    "collapsed": true
   },
   "outputs": [],
   "source": []
  }
 ],
 "metadata": {
  "kernelspec": {
   "display_name": "Python 3",
   "language": "python",
   "name": "python3"
  },
  "language_info": {
   "codemirror_mode": {
    "name": "ipython",
    "version": 3
   },
   "file_extension": ".py",
   "mimetype": "text/x-python",
   "name": "python",
   "nbconvert_exporter": "python",
   "pygments_lexer": "ipython3",
   "version": "3.6.0"
  }
 },
 "nbformat": 4,
 "nbformat_minor": 2
}
