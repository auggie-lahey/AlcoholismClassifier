{
 "cells": [
  {
   "cell_type": "markdown",
   "metadata": {},
   "source": [
    "# Import libs"
   ]
  },
  {
   "cell_type": "code",
   "execution_count": 1,
   "metadata": {
    "collapsed": true
   },
   "outputs": [],
   "source": [
    "import pandas as pd\n",
    "import numbers\n",
    "pd.options.mode.chained_assignment =default='warn'\n",
    "import matplotlib.pyplot as plt\n",
    "import numpy as np\n",
    "from collections import Counter\n",
    "import statsmodels.api as sm\n"
   ]
  },
  {
   "cell_type": "markdown",
   "metadata": {},
   "source": [
    "# Read data from dict and csv"
   ]
  },
  {
   "cell_type": "code",
   "execution_count": 2,
   "metadata": {},
   "outputs": [
    {
     "name": "stdout",
     "output_type": "stream",
     "text": [
      "Index(['school', 'sex', 'age', 'address', 'famsize', 'Pstatus', 'Medu', 'Fedu',\n",
      "       'Mjob', 'Fjob', 'reason', 'guardian', 'traveltime', 'studytime',\n",
      "       'failures', 'schoolsup', 'famsup', 'paid', 'activities', 'nursery',\n",
      "       'higher', 'internet', 'romantic', 'famrel', 'freetime', 'goout', 'Dalc',\n",
      "       'Walc', 'health', 'absences', 'G1', 'G2', 'G3'],\n",
      "      dtype='object')\n"
     ]
    }
   ],
   "source": [
    "df = pd.read_csv('student-por.csv')\n",
    "print(df.columns)\n",
    "df.columns = ['school', 'sex', 'age', 'rural', 'big_family', 'divorced', 'mom_edu', 'dad_edu',\n",
    "       'mom_job', 'dad_job', 'reason_for_school', 'guardian', 'travel_time', 'study_time',\n",
    "       'failures', 'extra_school_support', 'extra_family_support', 'paid', 'extracurricular', 'preschool',\n",
    "       'college', 'internet_access', 'dating', 'home_life', 'free_time', 'party', 'wd_drinker',\n",
    "       'weekend_drinker', 'health', 'absences', 'fall_grade', 'spring_grade', 'final_grade']\n",
    "dictionary = pd.read_csv('dict.csv')\n",
    "dictionary.drop([\"Unnamed: 2\"], 1)\n",
    "dictionary['col'] = df.columns\n"
   ]
  },
  {
   "cell_type": "markdown",
   "metadata": {},
   "source": [
    "# Transform data to readable format"
   ]
  },
  {
   "cell_type": "code",
   "execution_count": 3,
   "metadata": {
    "collapsed": true
   },
   "outputs": [],
   "source": [
    "original_data = df.copy()\n",
    "df = df.replace(['yes', 'no'], [1,0])\n",
    "df.divorced = df.divorced.replace([\"A\", \"T\"], [1,0])\n",
    "df.big_family = df.big_family.replace([\"LE3\", \"GT3\"], [0,1])\n",
    "df.rural = df.rural.replace([\"U\",\"R\"], [0,1])\n",
    "df.sex = df.sex.replace([\"M\",\"F\"], [0,1])\n",
    "df.school = df.school.replace([\"GP\",\"MS\"], [1,2])\n",
    "df.guardian = df.guardian.replace([\"mother\",\"father\", \"other\"], [1,2,3])\n",
    "df.mom_job = df.mom_job.replace([\"teacher\",\"health\",\"services\",\"at_home\",\"other\"], [1,2,3,4,5])\n",
    "df.dad_job = df.dad_job.replace([\"teacher\",\"health\",\"services\",\"at_home\",\"other\"], [1,2,3,4,5])\n",
    "df.reason_for_school = df.reason_for_school.replace([\"home\",\"reputation\", \"course\",\"other\"], [1,2,3,4])\n",
    "df['index'] = df.index\n",
    "df[\"risk_score\"] = df.wd_drinker * df.weekend_drinker\n",
    "\n",
    "\n",
    "df['school_GP'] = df.school.replace([1,2], [1,0])#[\"GP\",\"MS\"], [1,2])\n",
    "df['school_MS'] = df.school.replace([1,2], [0,1])\n",
    "\n",
    "df['guard_mom'] = df.guardian.replace([1,2,3], [1,0,0])#[\"mother\",\"father\", \"other\"], [1,2,3])\n",
    "df['guard_dad'] = df.guardian.replace([1,2,3],[0,1,0])#[\"mother\",\"father\", \"other\"], [1,2,3])\n",
    "df['guard_other'] = df.guardian.replace([1,2,3], [0,0,1])#[\"mother\",\"father\", \"other\"], [1,2,3])\n",
    "\n",
    "#[\"teacher\",\"health\",\"services\",\"at_home\",\"other\"], [1,2,3,4,5])\n",
    "df['mom_teach'] = df.mom_job.replace([1,2,3,4,5], [1,0,0,0,0])\n",
    "df['mom_health'] = df.mom_job.replace([1,2,3,4,5], [0,1,0,0,0])\n",
    "df['mom_service'] = df.mom_job.replace([1,2,3,4,5], [0,0,1,0,0])\n",
    "df['mom_home'] = df.mom_job.replace([1,2,3,4,5], [0,0,0,1,0])\n",
    "df['mom_other'] = df.mom_job.replace([1,2,3,4,5], [0,0,0,0,1])\n",
    "\n",
    "df['dad_teach'] = df.dad_job.replace([1,2,3,4,5], [1,0,0,0,0])\n",
    "df['dad_health'] = df.dad_job.replace([1,2,3,4,5], [0,1,0,0,0])\n",
    "df['dad_service'] = df.dad_job.replace([1,2,3,4,5], [0,0,1,0,0])\n",
    "df['dad_home'] = df.dad_job.replace([1,2,3,4,5], [0,0,0,1,0])\n",
    "df['dad_other'] = df.dad_job.replace([1,2,3,4,5], [0,0,0,0,1])\n",
    "\n",
    "#df.reason_for_school = df.reason_for_school.replace([\"home\",\"reputation\", \"course\",\"other\"], [1,2,3,4])\n",
    "df['reason_home'] = df.reason_for_school.replace([1,2,3,4], [1,0,0,0])\n",
    "df['reason_rep'] = df.reason_for_school.replace([1,2,3,4], [0,1,0,0])\n",
    "df['reason_course'] = df.reason_for_school.replace([1,2,3,4], [0,0,1,0])\n",
    "df['reason_other'] = df.reason_for_school.replace([1,2,3,4], [0,0,0,1])"
   ]
  },
  {
   "cell_type": "markdown",
   "metadata": {},
   "source": [
    "# Build dictionary for translation"
   ]
  },
  {
   "cell_type": "code",
   "execution_count": 4,
   "metadata": {},
   "outputs": [],
   "source": [
    "dictionary.columns = ['original_name', 'meaning', 'classes', 'col']\n",
    "dictionary = dictionary.replace(np.nan, '', regex=True)\n",
    "dictionary  = dictionary.set_value(5, 'classes', \"1 = divorced\")\n",
    "dictionary  = dictionary.set_value(4, 'classes', \"1 = >3\")\n",
    "dictionary  = dictionary.set_value(3, 'classes', \"1 = rural\")\n",
    "dictionary  = dictionary.set_value(1, 'classes', \"0=male, 1=female\")\n",
    "dictionary  = dictionary.set_value(0, 'classes', \"1=GP 1=MS\")\n",
    "dictionary  = dictionary.set_value(11, 'classes', \"1=mother, 2=father, 3=other\")\n",
    "dictionary  = dictionary.set_value(8, 'classes', \"1=teacher, 2=health 3=services 4=at_home 5=other\")\n",
    "dictionary  = dictionary.set_value(9, 'classes', \"1=teacher, 2=health 3=services 4=at_home 5=other\")\n",
    "dictionary  = dictionary.set_value(10, 'classes', \"1=close to home, 2=reputation 3=course4 =other\")\n",
    "pd.set_option('display.max_colwidth', -1)"
   ]
  },
  {
   "cell_type": "code",
   "execution_count": 5,
   "metadata": {},
   "outputs": [],
   "source": [
    "#make sure all columns are numerical\n",
    "for col in df.columns:\n",
    "    if not(isinstance(df[col][0], numbers.Integral)):\n",
    "        print(col)"
   ]
  },
  {
   "cell_type": "code",
   "execution_count": 6,
   "metadata": {},
   "outputs": [
    {
     "data": {
      "image/png": "[encoded data removed]",
      "text/plain": [
       "<matplotlib.figure.Figure at 0x7f9c2ad4acc0>"
      ]
     },
     "metadata": {},
     "output_type": "display_data"
    },
    {
     "name": "stdout",
     "output_type": "stream",
     "text": [
      "[   0.  451.  121.   43.   34.]\n",
      "[   0.  247.  150.  120.  132.]\n"
     ]
    }
   ],
   "source": [
    "bins=np.arange(0, 6)\n",
    "x =plt.hist(df.wd_drinker,facecolor ='red', alpha=.5, bins=bins)\n",
    "y =plt.hist(df.weekend_drinker,facecolor ='blue',alpha=.3, bins=bins)\n",
    "plt.style.use('fivethirtyeight')\n",
    "plt.style.use('ggplot') \n",
    "plt.show()\n",
    "print(x[0])\n",
    "print(y[0])"
   ]
  },
  {
   "cell_type": "code",
   "execution_count": 7,
   "metadata": {
    "scrolled": true
   },
   "outputs": [
    {
     "data": {
      "image/png": "[encoded data removed]",
      "text/plain": [
       "<matplotlib.figure.Figure at 0x7f9bf1080f98>"
      ]
     },
     "metadata": {},
     "output_type": "display_data"
    }
   ],
   "source": [
    "face = []\n",
    "for i in df.index:\n",
    "    face.append((df.iloc[i].weekend_drinker,df.iloc[i].wd_drinker))\n",
    "letter_counts = Counter(face)\n",
    "no = pd.DataFrame.from_dict(letter_counts, orient='index')\n",
    "x=[]\n",
    "y=[]\n",
    "s=[]\n",
    "no.columns = [\"tuples\"]\n",
    "for i in range(len(no.index)):\n",
    "    x.append(no.index[i][0])\n",
    "    y.append(no.index[i][1])\n",
    "    s.append(5000*no.tuples[i]/241)\n",
    "plt.scatter(x, y, s)\n",
    "plt.xlim(0,6)\n",
    "plt.ylim(0,6)\n",
    "plt.xlabel(\"we_response\", fontsize=15)\n",
    "plt.ylabel(\"wd_response\", fontsize=15)\n",
    "plt.title('Boozin Dist')\n",
    "plt.grid(True)\n",
    "plt.show()"
   ]
  },
  {
   "cell_type": "markdown",
   "metadata": {},
   "source": [
    "# Potential metrics and distributions"
   ]
  },
  {
   "cell_type": "code",
   "execution_count": 8,
   "metadata": {},
   "outputs": [
    {
     "data": {
      "image/png": "[encoded data removed]",
      "text/plain": [
       "<matplotlib.figure.Figure at 0x7f9bf1067940>"
      ]
     },
     "metadata": {},
     "output_type": "display_data"
    },
    {
     "data": {
      "image/png": "[encoded data removed]",
      "text/plain": [
       "<matplotlib.figure.Figure at 0x7f9bf107bcc0>"
      ]
     },
     "metadata": {},
     "output_type": "display_data"
    },
    {
     "data": {
      "image/png": "[encoded data removed]",
      "text/plain": [
       "<matplotlib.figure.Figure at 0x7f9beeea9ef0>"
      ]
     },
     "metadata": {},
     "output_type": "display_data"
    }
   ],
   "source": [
    "df[\"we*wd\"] = df.wd_drinker * df.weekend_drinker\n",
    "df[\"wd/we\"] = df.wd_drinker / df.weekend_drinker\n",
    "df[\"we/2twd/5\"] = df.wd_drinker/5 + df.weekend_drinker/2\n",
    "df[\"wetwd\"] = df.wd_drinker + df.weekend_drinker\n",
    "df[\"2wdtwe\"] = 2*df.wd_drinker + df.weekend_drinker\n",
    "\n",
    "handles = [\"we + wd\", \"2wd + we\", \"we * wd\", \"wd/we\",\"we/2 + we/5\"]\n",
    "binwidth = .05\n",
    "bins=np.arange(0, 3.5, .05)\n",
    "\n",
    "plt.hist(df[\"wetwd\"], normed=1,facecolor ='blue', alpha =.7)\n",
    "plt.hist(df[\"2wdtwe\"], normed=1,facecolor ='black', alpha =.7)\n",
    "plt.grid(True)\n",
    "plt.legend(handles[0:2])\n",
    "plt.show()\n",
    "plt.hist(df[\"we*wd\"],normed=1, facecolor='yellow', alpha=.75)\n",
    "plt.grid(True)\n",
    "plt.legend(handles[2:3])\n",
    "plt.show()\n",
    "plt.xlim(0,3)\n",
    "plt.hist(df[\"wd/we\"], normed=True, facecolor ='green', alpha =.7)#, bins=bins)\n",
    "plt.hist(df[\"we/2twd/5\"],normed=True,facecolor ='red', alpha =.7)#, bins=bins)\n",
    "plt.grid(True)\n",
    "plt.legend(handles[3:])\n",
    "plt.show()"
   ]
  },
  {
   "cell_type": "markdown",
   "metadata": {},
   "source": [
    "# Label data "
   ]
  },
  {
   "cell_type": "code",
   "execution_count": 9,
   "metadata": {},
   "outputs": [
    {
     "name": "stdout",
     "output_type": "stream",
     "text": [
      "high_risk: 50\n",
      "low_risk: 206\n",
      "no_risk: 393\n"
     ]
    }
   ],
   "source": [
    "#https://www.sciencedaily.com/releases/2010/05/100531190855.htm\n",
    "#http://www.who.int/substance_abuse/publications/global_alcohol_report/profiles/prt.pdf\n",
    "#prolly should label top 10% as high risk, and bottom 60 as no risk.\n",
    "metric = ['we/2twd/5']\n",
    "l0 = df[df['we/2twd/5'] > 2.6]\n",
    "l1 = df[(df['we/2twd/5'] <= 2.6) & (df['we/2twd/5'] > 1.4)]\n",
    "l2 = df[df['we/2twd/5'] <= 1.4]\n",
    "labels = ['high_risk', 'low_risk', 'no_risk']\n",
    "ls = []\n",
    "for r in range(len(df)):\n",
    "    if df.loc[r]['index'] in l0.index:\n",
    "        ls.append(labels[0])\n",
    "    elif df.loc[r]['index'] in l1.index:\n",
    "        ls.append(labels[1])\n",
    "    elif df.loc[r]['index'] in l2.index:\n",
    "        ls.append(labels[2])\n",
    "    else: \n",
    "        print('something went wrong')\n",
    "        \n",
    "df['label'] = ls\n",
    "print(labels[0] +': '+ str(len(df.loc[df.label == labels[0]])))\n",
    "print(labels[1] +': '+ str(len(df.loc[df.label == labels[1]])))\n",
    "print(labels[2] +': '+ str(len(df.loc[df.label == labels[2]])))\n"
   ]
  },
  {
   "cell_type": "code",
   "execution_count": 10,
   "metadata": {
    "scrolled": true
   },
   "outputs": [
    {
     "name": "stdout",
     "output_type": "stream",
     "text": [
      "high_risk: 65\n",
      "low_risk: 194\n",
      "no_risk: 390\n"
     ]
    }
   ],
   "source": [
    "#https://www.sciencedaily.com/releases/2010/05/100531190855.htm\n",
    "#http://www.who.int/substance_abuse/publications/global_alcohol_report/profiles/prt.pdf\n",
    "#prolly should label top 10% as high risk, and bottom 60 as no risk.\n",
    "metric = ['we/2twd/5']\n",
    "l0 = df.sort_values(metric, ascending=[1])[-65:]\n",
    "l1 = df.sort_values(metric, ascending=[1])[390:600]\n",
    "l2 = df.sort_values(metric, ascending=[1])[:390]\n",
    "labels = ['high_risk', 'low_risk', 'no_risk']\n",
    "ls = []\n",
    "for r in range(len(df)):\n",
    "    if df.loc[r]['index'] in l0.index:\n",
    "        ls.append(labels[0])\n",
    "    elif df.loc[r]['index'] in l1.index:\n",
    "        ls.append(labels[1])\n",
    "    elif df.loc[r]['index'] in l2.index:\n",
    "        ls.append(labels[2])\n",
    "    else: \n",
    "        print('something went wrong')\n",
    "        \n",
    "df['label'] = ls\n",
    "print(labels[0] +': '+ str(len(df.loc[df.label == labels[0]])))\n",
    "print(labels[1] +': '+ str(len(df.loc[df.label == labels[1]])))\n",
    "print(labels[2] +': '+ str(len(df.loc[df.label == labels[2]])))\n"
   ]
  },
  {
   "cell_type": "markdown",
   "metadata": {},
   "source": [
    "# Seperate training data and test data randomly"
   ]
  },
  {
   "cell_type": "code",
   "execution_count": 11,
   "metadata": {},
   "outputs": [
    {
     "name": "stdout",
     "output_type": "stream",
     "text": [
      "649\n"
     ]
    }
   ],
   "source": [
    "test = df.sample(n=round(len(df)/3), replace=False,random_state=6)\n",
    "train = df[~df.index.isin(test.index)]\n",
    "print(len(train)+ len(test))"
   ]
  },
  {
   "cell_type": "code",
   "execution_count": 12,
   "metadata": {},
   "outputs": [],
   "source": [
    "cols = [ 'sex', 'age', 'rural', 'big_family', 'divorced', 'mom_edu',\n",
    "       'dad_edu','travel_time', 'study_time', 'failures', 'extra_school_support',\n",
    "       'extra_family_support', 'paid', 'extracurricular', 'preschool',\n",
    "       'college', 'internet_access', 'dating', 'home_life', 'free_time',\n",
    "       'party', 'health', 'absences',\n",
    "       'fall_grade', 'spring_grade', 'final_grade',\n",
    "       'school_GP', 'school_MS', \n",
    "       'guard_mom', 'guard_dad', 'guard_other',\n",
    "       'mom_teach', 'mom_health', 'mom_service', 'mom_home', 'mom_other',\n",
    "       'dad_teach', 'dad_health', 'dad_service', 'dad_home', 'dad_other',\n",
    "       'reason_home', 'reason_rep', 'reason_course', 'reason_other'\n",
    "       ] \n",
    "#       'we*wd', 'wd/we', 'we/2twd/5', 'wetwd', '2wdtwe', 'label']\n",
    "\n"
   ]
  },
  {
   "cell_type": "code",
   "execution_count": 13,
   "metadata": {},
   "outputs": [
    {
     "data": {
      "text/plain": [
       "14"
      ]
     },
     "execution_count": 13,
     "metadata": {},
     "output_type": "execute_result"
    }
   ],
   "source": [
    "cols = ['divorced', 'mom_edu',\n",
    "       'dad_edu','study_time', 'failures', 'extra_school_support',\n",
    "       'extra_family_support', 'extracurricular', \n",
    "       'college', 'dating', 'home_life', 'free_time',\n",
    "       'health', 'absences']\n",
    "len(cols)"
   ]
  },
  {
   "cell_type": "code",
   "execution_count": 14,
   "metadata": {
    "scrolled": true
   },
   "outputs": [
    {
     "data": {
      "text/plain": [
       "14"
      ]
     },
     "execution_count": 14,
     "metadata": {},
     "output_type": "execute_result"
    }
   ],
   "source": [
    "cols = ['divorced', 'mom_edu',\n",
    "       'dad_edu','study_time', 'failures', 'extra_school_support',\n",
    "       'extra_family_support', 'extracurricular', \n",
    "       'college', 'dating', 'home_life', 'free_time',\n",
    "       'health', 'absences']\n",
    "len(cols)"
   ]
  },
  {
   "cell_type": "code",
   "execution_count": 15,
   "metadata": {},
   "outputs": [
    {
     "name": "stdout",
     "output_type": "stream",
     "text": [
      "                            OLS Regression Results                            \n",
      "==============================================================================\n",
      "Dep. Variable:              we/2twd/5   R-squared:                       0.770\n",
      "Model:                            OLS   Adj. R-squared:                  0.766\n",
      "Method:                 Least Squares   F-statistic:                     237.9\n",
      "Date:                Wed, 03 May 2017   Prob (F-statistic):          9.49e-133\n",
      "Time:                        21:07:19   Log-Likelihood:                -510.88\n",
      "No. Observations:                 433   AIC:                             1034.\n",
      "Df Residuals:                     427   BIC:                             1058.\n",
      "Df Model:                           6                                         \n",
      "Covariance Type:            nonrobust                                         \n",
      "========================================================================================\n",
      "                           coef    std err          t      P>|t|      [0.025      0.975]\n",
      "----------------------------------------------------------------------------------------\n",
      "home_life                0.0824      0.030      2.792      0.005       0.024       0.140\n",
      "failures                 0.1397      0.072      1.934      0.054      -0.002       0.282\n",
      "extra_school_support    -0.0994      0.117     -0.853      0.394      -0.329       0.130\n",
      "free_time                0.2125      0.034      6.255      0.000       0.146       0.279\n",
      "absences                 0.0289      0.008      3.516      0.000       0.013       0.045\n",
      "mom_edu                  0.1119      0.031      3.616      0.000       0.051       0.173\n",
      "==============================================================================\n",
      "Omnibus:                       29.965   Durbin-Watson:                   1.854\n",
      "Prob(Omnibus):                  0.000   Jarque-Bera (JB):               34.877\n",
      "Skew:                           0.695   Prob(JB):                     2.67e-08\n",
      "Kurtosis:                       3.022   Cond. No.                         22.5\n",
      "==============================================================================\n",
      "\n",
      "Warnings:\n",
      "[1] Standard Errors assume that the covariance matrix of the errors is correctly specified.\n",
      "MSE 0.00051234722503\n",
      "                            OLS Regression Results                            \n",
      "==============================================================================\n",
      "Dep. Variable:              we/2twd/5   R-squared:                       0.739\n",
      "Model:                            OLS   Adj. R-squared:                  0.738\n",
      "Method:                 Least Squares   F-statistic:                     1220.\n",
      "Date:                Wed, 03 May 2017   Prob (F-statistic):          6.61e-128\n",
      "Time:                        21:07:19   Log-Likelihood:                -538.40\n",
      "No. Observations:                 433   AIC:                             1079.\n",
      "Df Residuals:                     432   BIC:                             1083.\n",
      "Df Model:                           1                                         \n",
      "Covariance Type:            nonrobust                                         \n",
      "==============================================================================\n",
      "                 coef    std err          t      P>|t|      [0.025      0.975]\n",
      "------------------------------------------------------------------------------\n",
      "free_time      0.4174      0.012     34.929      0.000       0.394       0.441\n",
      "==============================================================================\n",
      "Omnibus:                       26.627   Durbin-Watson:                   1.787\n",
      "Prob(Omnibus):                  0.000   Jarque-Bera (JB):               29.782\n",
      "Skew:                           0.623   Prob(JB):                     3.41e-07\n",
      "Kurtosis:                       3.312   Cond. No.                         1.00\n",
      "==============================================================================\n",
      "\n",
      "Warnings:\n",
      "[1] Standard Errors assume that the covariance matrix of the errors is correctly specified.\n",
      "MSE 0.0185088175594\n",
      "0.0179964703343\n"
     ]
    },
    {
     "name": "stderr",
     "output_type": "stream",
     "text": [
      "/usr/local/lib/python3.5/dist-packages/ipykernel_launcher.py:15: SettingWithCopyWarning: \n",
      "A value is trying to be set on a copy of a slice from a DataFrame.\n",
      "Try using .loc[row_indexer,col_indexer] = value instead\n",
      "\n",
      "See the caveats in the documentation: http://pandas.pydata.org/pandas-docs/stable/indexing.html#indexing-view-versus-copy\n",
      "  from ipykernel import kernelapp as app\n",
      "/usr/local/lib/python3.5/dist-packages/ipykernel_launcher.py:34: SettingWithCopyWarning: \n",
      "A value is trying to be set on a copy of a slice from a DataFrame.\n",
      "Try using .loc[row_indexer,col_indexer] = value instead\n",
      "\n",
      "See the caveats in the documentation: http://pandas.pydata.org/pandas-docs/stable/indexing.html#indexing-view-versus-copy\n"
     ]
    }
   ],
   "source": [
    "#['we*wd', 'we/2twd/5', 'wetwd', '2wdtwe']\n",
    "cols=['home_life', 'failures', 'extra_school_support', 'free_time', 'absences', 'mom_edu']\n",
    "#cols =['free_time']\n",
    "metric = ['we/2twd/5']\n",
    "x_train = train[cols]\n",
    "x_test = test[cols]\n",
    "#print(x_test.shape)\n",
    "#print(x_test.columns)\n",
    "y_train = train[metric]\n",
    "y_test = test[metric]\n",
    "\n",
    "# Train the model using training sets, using Ordinary Least Square method\n",
    "results = sm.OLS(y_train, x_train).fit()\n",
    "print(results.summary())\n",
    "y_test['preds'] = results.predict(x_test)\n",
    "a = y_test['preds'] - y_test['we/2twd/5']\n",
    "b1= (np.mean(a))**2\n",
    "print(\"MSE \"+ str(b1))\n",
    "\n",
    "#['we*wd', 'we/2twd/5', 'wetwd', '2wdtwe']\n",
    "#cols=['home_life', 'failures', 'extra_school_support', 'free_time', 'absences', 'mom_edu']\n",
    "cols =['free_time']\n",
    "metric = ['we/2twd/5']\n",
    "x_train = train[cols]\n",
    "x_test = test[cols]\n",
    "#print(x_test.shape)\n",
    "#print(x_test.columns)\n",
    "y_train = train[metric]\n",
    "y_test = test[metric]\n",
    "\n",
    "# Train the model using training sets, using Ordinary Least Square method\n",
    "results = sm.OLS(y_train, x_train).fit()\n",
    "print(results.summary())\n",
    "y_test['preds'] = results.predict(x_test)\n",
    "a = y_test['preds'] - y_test['we/2twd/5']\n",
    "b2= (np.mean(a))**2\n",
    "print(\"MSE \"+ str(b2))\n",
    "print(b2-b1)"
   ]
  },
  {
   "cell_type": "code",
   "execution_count": 16,
   "metadata": {
    "scrolled": false
   },
   "outputs": [
    {
     "name": "stdout",
     "output_type": "stream",
     "text": [
      "                            OLS Regression Results                            \n",
      "==============================================================================\n",
      "Dep. Variable:                  wetwd   R-squared:                       0.774\n",
      "Model:                            OLS   Adj. R-squared:                  0.771\n",
      "Method:                 Least Squares   F-statistic:                     244.4\n",
      "Date:                Wed, 03 May 2017   Prob (F-statistic):          1.15e-134\n",
      "Time:                        21:07:21   Log-Likelihood:                -925.58\n",
      "No. Observations:                 433   AIC:                             1863.\n",
      "Df Residuals:                     427   BIC:                             1888.\n",
      "Df Model:                           6                                         \n",
      "Covariance Type:            nonrobust                                         \n",
      "========================================================================================\n",
      "                           coef    std err          t      P>|t|      [0.025      0.975]\n",
      "----------------------------------------------------------------------------------------\n",
      "home_life                0.2268      0.077      2.948      0.003       0.076       0.378\n",
      "failures                 0.3483      0.188      1.851      0.065      -0.022       0.718\n",
      "extra_school_support    -0.1870      0.304     -0.615      0.539      -0.784       0.410\n",
      "free_time                0.5431      0.089      6.134      0.000       0.369       0.717\n",
      "absences                 0.0830      0.021      3.882      0.000       0.041       0.125\n",
      "mom_edu                  0.2932      0.081      3.635      0.000       0.135       0.452\n",
      "==============================================================================\n",
      "Omnibus:                       56.616   Durbin-Watson:                   1.855\n",
      "Prob(Omnibus):                  0.000   Jarque-Bera (JB):               75.892\n",
      "Skew:                           0.950   Prob(JB):                     3.31e-17\n",
      "Kurtosis:                       3.773   Cond. No.                         22.5\n",
      "==============================================================================\n",
      "\n",
      "Warnings:\n",
      "[1] Standard Errors assume that the covariance matrix of the errors is correctly specified.\n",
      "MSE 1.59426992393e-06\n",
      "                            OLS Regression Results                            \n",
      "==============================================================================\n",
      "Dep. Variable:                  wetwd   R-squared:                       0.741\n",
      "Model:                            OLS   Adj. R-squared:                  0.741\n",
      "Method:                 Least Squares   F-statistic:                     1237.\n",
      "Date:                Wed, 03 May 2017   Prob (F-statistic):          7.24e-129\n",
      "Time:                        21:07:21   Log-Likelihood:                -955.38\n",
      "No. Observations:                 433   AIC:                             1913.\n",
      "Df Residuals:                     432   BIC:                             1917.\n",
      "Df Model:                           1                                         \n",
      "Covariance Type:            nonrobust                                         \n",
      "==============================================================================\n",
      "                 coef    std err          t      P>|t|      [0.025      0.975]\n",
      "------------------------------------------------------------------------------\n",
      "free_time      1.1010      0.031     35.172      0.000       1.039       1.163\n",
      "==============================================================================\n",
      "Omnibus:                       48.545   Durbin-Watson:                   1.787\n",
      "Prob(Omnibus):                  0.000   Jarque-Bera (JB):               63.840\n",
      "Skew:                           0.828   Prob(JB):                     1.37e-14\n",
      "Kurtosis:                       3.891   Cond. No.                         1.00\n",
      "==============================================================================\n",
      "\n",
      "Warnings:\n",
      "[1] Standard Errors assume that the covariance matrix of the errors is correctly specified.\n",
      "MSE 0.0906472275027\n",
      "0.0906456332328\n"
     ]
    },
    {
     "name": "stderr",
     "output_type": "stream",
     "text": [
      "/usr/local/lib/python3.5/dist-packages/ipykernel_launcher.py:15: SettingWithCopyWarning: \n",
      "A value is trying to be set on a copy of a slice from a DataFrame.\n",
      "Try using .loc[row_indexer,col_indexer] = value instead\n",
      "\n",
      "See the caveats in the documentation: http://pandas.pydata.org/pandas-docs/stable/indexing.html#indexing-view-versus-copy\n",
      "  from ipykernel import kernelapp as app\n",
      "/usr/local/lib/python3.5/dist-packages/ipykernel_launcher.py:32: SettingWithCopyWarning: \n",
      "A value is trying to be set on a copy of a slice from a DataFrame.\n",
      "Try using .loc[row_indexer,col_indexer] = value instead\n",
      "\n",
      "See the caveats in the documentation: http://pandas.pydata.org/pandas-docs/stable/indexing.html#indexing-view-versus-copy\n"
     ]
    }
   ],
   "source": [
    "#['we*wd', 'we/2twd/5', 'wetwd', '2wdtwe']\n",
    "cols=['home_life', 'failures', 'extra_school_support', 'free_time', 'absences', 'mom_edu']\n",
    "#cols =['free_time']\n",
    "metric = ['wetwd']\n",
    "x_train = train[cols]\n",
    "x_test = test[cols]\n",
    "#print(x_test.shape)\n",
    "#print(x_test.columns)\n",
    "y_train = train[metric]\n",
    "y_test = test[metric]\n",
    "\n",
    "# Train the model using training sets, using Ordinary Least Square method\n",
    "results = sm.OLS(y_train, x_train).fit()\n",
    "print(results.summary())\n",
    "y_test['preds'] = results.predict(x_test)\n",
    "a = y_test['preds'] - y_test['wetwd']\n",
    "b1= (np.mean(a))**2\n",
    "print(\"MSE \"+ str(b1))\n",
    "\n",
    "\n",
    "cols =['free_time']\n",
    "x_train = train[cols]\n",
    "x_test = test[cols]\n",
    "#print(x_test.shape)\n",
    "#print(x_test.columns)\n",
    "y_train = train[metric]\n",
    "y_test = test[metric]\n",
    "\n",
    "# Train the model using training sets, using Ordinary Least Square method\n",
    "results = sm.OLS(y_train, x_train).fit()\n",
    "print(results.summary())\n",
    "y_test['preds'] = results.predict(x_test)\n",
    "a = y_test['preds'] - y_test['wetwd']\n",
    "b2= (np.mean(a))**2\n",
    "print(\"MSE \"+ str(b2))\n",
    "print(b2-b1)"
   ]
  },
  {
   "cell_type": "code",
   "execution_count": 17,
   "metadata": {},
   "outputs": [
    {
     "name": "stdout",
     "output_type": "stream",
     "text": [
      "MSE 0.0906472275027\n"
     ]
    },
    {
     "name": "stderr",
     "output_type": "stream",
     "text": [
      "/usr/local/lib/python3.5/dist-packages/ipykernel_launcher.py:1: SettingWithCopyWarning: \n",
      "A value is trying to be set on a copy of a slice from a DataFrame.\n",
      "Try using .loc[row_indexer,col_indexer] = value instead\n",
      "\n",
      "See the caveats in the documentation: http://pandas.pydata.org/pandas-docs/stable/indexing.html#indexing-view-versus-copy\n",
      "  \"\"\"Entry point for launching an IPython kernel.\n"
     ]
    }
   ],
   "source": [
    "y_test['pgreds'] = results.predict(x_test)\n",
    "a = y_test['preds'] - y_test['wetwd']\n",
    "b1= (np.mean(a))**2\n",
    "print(\"MSE \"+ str(b1))"
   ]
  },
  {
   "cell_type": "code",
   "execution_count": 18,
   "metadata": {
    "scrolled": false
   },
   "outputs": [
    {
     "name": "stdout",
     "output_type": "stream",
     "text": [
      "                            OLS Regression Results                            \n",
      "==============================================================================\n",
      "Dep. Variable:              we/2twd/5   R-squared:                       0.770\n",
      "Model:                            OLS   Adj. R-squared:                  0.766\n",
      "Method:                 Least Squares   F-statistic:                     237.9\n",
      "Date:                Wed, 03 May 2017   Prob (F-statistic):          9.49e-133\n",
      "Time:                        21:07:22   Log-Likelihood:                -510.88\n",
      "No. Observations:                 433   AIC:                             1034.\n",
      "Df Residuals:                     427   BIC:                             1058.\n",
      "Df Model:                           6                                         \n",
      "Covariance Type:            nonrobust                                         \n",
      "========================================================================================\n",
      "                           coef    std err          t      P>|t|      [0.025      0.975]\n",
      "----------------------------------------------------------------------------------------\n",
      "home_life                0.0824      0.030      2.792      0.005       0.024       0.140\n",
      "failures                 0.1397      0.072      1.934      0.054      -0.002       0.282\n",
      "extra_school_support    -0.0994      0.117     -0.853      0.394      -0.329       0.130\n",
      "free_time                0.2125      0.034      6.255      0.000       0.146       0.279\n",
      "absences                 0.0289      0.008      3.516      0.000       0.013       0.045\n",
      "mom_edu                  0.1119      0.031      3.616      0.000       0.051       0.173\n",
      "==============================================================================\n",
      "Omnibus:                       29.965   Durbin-Watson:                   1.854\n",
      "Prob(Omnibus):                  0.000   Jarque-Bera (JB):               34.877\n",
      "Skew:                           0.695   Prob(JB):                     2.67e-08\n",
      "Kurtosis:                       3.022   Cond. No.                         22.5\n",
      "==============================================================================\n",
      "\n",
      "Warnings:\n",
      "[1] Standard Errors assume that the covariance matrix of the errors is correctly specified.\n",
      "MSE 0.00051234722503\n"
     ]
    },
    {
     "name": "stderr",
     "output_type": "stream",
     "text": [
      "/usr/local/lib/python3.5/dist-packages/ipykernel_launcher.py:14: SettingWithCopyWarning: \n",
      "A value is trying to be set on a copy of a slice from a DataFrame.\n",
      "Try using .loc[row_indexer,col_indexer] = value instead\n",
      "\n",
      "See the caveats in the documentation: http://pandas.pydata.org/pandas-docs/stable/indexing.html#indexing-view-versus-copy\n",
      "  \n"
     ]
    },
    {
     "data": {
      "text/plain": [
       "420    1.054561\n",
       "539    1.185956\n",
       "582    1.044481\n",
       "243    0.896132\n",
       "91     2.013109\n",
       "349    1.172864\n",
       "382    1.148161\n",
       "169    1.524941\n",
       "106    0.864392\n",
       "325    2.474800\n",
       "59     1.260065\n",
       "134    1.378924\n",
       "228    1.457901\n",
       "309    1.825272\n",
       "629    1.537273\n",
       "390    1.576761\n",
       "223    1.627435\n",
       "376    1.504264\n",
       "43     1.386592\n",
       "248    1.267021\n",
       "646    0.579993\n",
       "160    1.087488\n",
       "351    2.089919\n",
       "162    1.616168\n",
       "407    1.611913\n",
       "212    2.207739\n",
       "436    1.546862\n",
       "196    1.486041\n",
       "461    0.866642\n",
       "2      1.152867\n",
       "         ...   \n",
       "448    1.375487\n",
       "507    1.079183\n",
       "28     1.343666\n",
       "607    1.417779\n",
       "41     1.940694\n",
       "409    1.562691\n",
       "418    1.058714\n",
       "111    0.893882\n",
       "135    1.354303\n",
       "599    1.819425\n",
       "11     1.060960\n",
       "314    1.479561\n",
       "411    1.685146\n",
       "288    1.248798\n",
       "364    1.555020\n",
       "600    0.982065\n",
       "366    1.285955\n",
       "465    1.608726\n",
       "524    1.148161\n",
       "343    1.414894\n",
       "568    1.542607\n",
       "580    1.546862\n",
       "140    1.655657\n",
       "156    1.291724\n",
       "131    2.193747\n",
       "378    1.302990\n",
       "510    1.273501\n",
       "299    0.962148\n",
       "190    1.321213\n",
       "594    1.414894\n",
       "Name: preds, dtype: float64"
      ]
     },
     "execution_count": 18,
     "metadata": {},
     "output_type": "execute_result"
    }
   ],
   "source": [
    "cols=['home_life', 'failures', 'extra_school_support', 'free_time', 'absences', 'mom_edu']\n",
    "#cols =['free_time']\n",
    "metric = ['we/2twd/5']\n",
    "x_train = train[cols]\n",
    "x_test = test[cols]\n",
    "#print(x_test.shape)\n",
    "#print(x_test.columns)\n",
    "y_train = train[metric]\n",
    "y_test = test[metric]\n",
    "\n",
    "# Train the model using training sets, using Ordinary Least Square method\n",
    "results = sm.OLS(y_train, x_train).fit()\n",
    "print(results.summary())\n",
    "y_test['preds'] = results.predict(x_test)\n",
    "a = y_test['preds'] - y_test['we/2twd/5']\n",
    "b1= (np.mean(a))**2\n",
    "print(\"MSE \"+ str(b1))\n",
    "y_test['preds']"
   ]
  },
  {
   "cell_type": "code",
   "execution_count": 19,
   "metadata": {},
   "outputs": [],
   "source": [
    "cols = ['home_life',\n",
    " 'failures',\n",
    " 'extra_school_support',\n",
    " 'free_time',\n",
    " 'absences',\n",
    " 'mom_edu', 'label', 'preds']\n",
    "\n",
    "#df.loc[df['index'].isin(y_test.index)][cols]"
   ]
  },
  {
   "cell_type": "code",
   "execution_count": 20,
   "metadata": {},
   "outputs": [],
   "source": [
    "x = pd.concat([df, y_test], axis=1, join='inner', copy=True)[cols]"
   ]
  },
  {
   "cell_type": "code",
   "execution_count": 21,
   "metadata": {},
   "outputs": [
    {
     "ename": "SyntaxError",
     "evalue": "invalid syntax (<ipython-input-21-cf528bc9c8fe>, line 1)",
     "output_type": "error",
     "traceback": [
      "\u001b[0;36m  File \u001b[0;32m\"<ipython-input-21-cf528bc9c8fe>\"\u001b[0;36m, line \u001b[0;32m1\u001b[0m\n\u001b[0;31m    x.loc[x.label == 'no_risk' & x.preds >]\u001b[0m\n\u001b[0m                                          ^\u001b[0m\n\u001b[0;31mSyntaxError\u001b[0m\u001b[0;31m:\u001b[0m invalid syntax\n"
     ]
    }
   ],
   "source": [
    "x.loc[x.label == 'no_risk' & x.preds >]"
   ]
  },
  {
   "cell_type": "code",
   "execution_count": 22,
   "metadata": {},
   "outputs": [],
   "source": [
    "df[\"class\"] = \"\""
   ]
  },
  {
   "cell_type": "code",
   "execution_count": 23,
   "metadata": {},
   "outputs": [
    {
     "name": "stderr",
     "output_type": "stream",
     "text": [
      "/usr/local/lib/python3.5/dist-packages/ipykernel_launcher.py:1: SettingWithCopyWarning: \n",
      "A value is trying to be set on a copy of a slice from a DataFrame.\n",
      "Try using .loc[row_indexer,col_indexer] = value instead\n",
      "\n",
      "See the caveats in the documentation: http://pandas.pydata.org/pandas-docs/stable/indexing.html#indexing-view-versus-copy\n",
      "  \"\"\"Entry point for launching an IPython kernel.\n",
      "/usr/local/lib/python3.5/dist-packages/ipykernel_launcher.py:3: SettingWithCopyWarning: \n",
      "A value is trying to be set on a copy of a slice from a DataFrame.\n",
      "Try using .loc[row_indexer,col_indexer] = value instead\n",
      "\n",
      "See the caveats in the documentation: http://pandas.pydata.org/pandas-docs/stable/indexing.html#indexing-view-versus-copy\n",
      "  This is separate from the ipykernel package so we can avoid doing imports until\n",
      "/usr/local/lib/python3.5/dist-packages/ipykernel_launcher.py:5: SettingWithCopyWarning: \n",
      "A value is trying to be set on a copy of a slice from a DataFrame.\n",
      "Try using .loc[row_indexer,col_indexer] = value instead\n",
      "\n",
      "See the caveats in the documentation: http://pandas.pydata.org/pandas-docs/stable/indexing.html#indexing-view-versus-copy\n",
      "  \"\"\"\n"
     ]
    }
   ],
   "source": [
    "df[df['we/2twd/5'] > 2.6]['class'] = len(df.loc[df['we/2twd/5'] > 2.6])*['high_risk']\n",
    "\n",
    "df[(df['we/2twd/5'] < 2.6) & (df['we/2twd/5'] > 1.4)]['class'] = len(df.loc[(df['we/2twd/5'] < 2.6) & (df['we/2twd/5'] > 1.4)])*['low_risk']\n",
    "\n",
    "df[df['we/2twd/5'] <1.4]['class'] = len(df.loc[df['we/2twd/5'] < 1.4])*['no_risk']"
   ]
  },
  {
   "cell_type": "code",
   "execution_count": 24,
   "metadata": {},
   "outputs": [
    {
     "name": "stdout",
     "output_type": "stream",
     "text": [
      "we/2twd/5    1.4\n",
      "dtype: float64\n",
      "we/2twd/5    1.4\n",
      "dtype: float64\n",
      "we/2twd/5    2.6\n",
      "dtype: float64\n",
      "we/2twd/5    2.6\n",
      "dtype: float64\n"
     ]
    }
   ],
   "source": [
    "#https://www.sciencedaily.com/releases/2010/05/100531190855.htm\n",
    "#http://www.who.int/substance_abuse/publications/global_alcohol_report/profiles/prt.pdf\n",
    "#prolly should label top 10% as high risk, and bottom 60 as no risk.\n",
    "print(df.loc[df.label == 'no_risk'][metric].max())\n",
    "print(df.loc[df.label == 'low_risk'][metric].min())\n",
    "print(df.loc[df.label == 'low_risk'][metric].max())\n",
    "print(df.loc[df.label == 'high_risk'][metric].min())"
   ]
  },
  {
   "cell_type": "code",
   "execution_count": 25,
   "metadata": {},
   "outputs": [
    {
     "data": {
      "text/plain": [
       "Index(['school', 'sex', 'age', 'rural', 'big_family', 'divorced', 'mom_edu',\n",
       "       'dad_edu', 'mom_job', 'dad_job', 'reason_for_school', 'guardian',\n",
       "       'travel_time', 'study_time', 'failures', 'extra_school_support',\n",
       "       'extra_family_support', 'paid', 'extracurricular', 'preschool',\n",
       "       'college', 'internet_access', 'dating', 'home_life', 'free_time',\n",
       "       'party', 'wd_drinker', 'weekend_drinker', 'health', 'absences',\n",
       "       'fall_grade', 'spring_grade', 'final_grade', 'index', 'risk_score',\n",
       "       'school_GP', 'school_MS', 'guard_mom', 'guard_dad', 'guard_other',\n",
       "       'mom_teach', 'mom_health', 'mom_service', 'mom_home', 'mom_other',\n",
       "       'dad_teach', 'dad_health', 'dad_service', 'dad_home', 'dad_other',\n",
       "       'reason_home', 'reason_rep', 'reason_course', 'reason_other', 'we*wd',\n",
       "       'wd/we', 'we/2twd/5', 'wetwd', '2wdtwe', 'label', 'class'],\n",
       "      dtype='object')"
      ]
     },
     "execution_count": 25,
     "metadata": {},
     "output_type": "execute_result"
    }
   ],
   "source": [
    "df.columns"
   ]
  },
  {
   "cell_type": "code",
   "execution_count": 26,
   "metadata": {},
   "outputs": [
    {
     "data": {
      "text/plain": [
       "['home_life',\n",
       " 'failures',\n",
       " 'extra_school_support',\n",
       " 'free_time',\n",
       " 'absences',\n",
       " 'mom_edu',\n",
       " 'label',\n",
       " 'preds']"
      ]
     },
     "execution_count": 26,
     "metadata": {},
     "output_type": "execute_result"
    }
   ],
   "source": [
    "cols"
   ]
  },
  {
   "cell_type": "code",
   "execution_count": 27,
   "metadata": {
    "collapsed": true
   },
   "outputs": [],
   "source": [
    "x = pd.concat([df, y_test], axis=1, join='inner', copy=True)"
   ]
  },
  {
   "cell_type": "code",
   "execution_count": 32,
   "metadata": {},
   "outputs": [
    {
     "name": "stdout",
     "output_type": "stream",
     "text": [
      "0\n",
      "0\n",
      "0\n",
      "11\n",
      "28\n",
      "48\n",
      "10\n",
      "38\n",
      "81\n"
     ]
    }
   ],
   "source": [
    "x = pd.concat([df, y_test], axis=1, join='inner', copy=True)\n",
    "print(len(x.loc[(x['preds']>2.7) & (x.label == 'high_risk')]))\n",
    "print(len(x.loc[(x['preds']>2.7)&(x.label == 'low_risk')]))\n",
    "print(len(x.loc[(x['preds']>2.7)&(x.label == 'no_risk')]))\n",
    "\n",
    "\n",
    "print(len(x.loc[(x['preds']<2.7)&(x.label == 'high_risk')&(x['preds']>=1.5)]))\n",
    "print(len(x.loc[(x['preds']<2.7)&(x.label == 'low_risk')&(x['preds']>=1.5)]))\n",
    "print(len(x.loc[(x['preds']<2.7)&(x.label == 'no_risk')&(x['preds']>=1.5)]))\n",
    "\n",
    "print(len(x.loc[(x['preds']<1.5)&(x.label == 'high_risk')]))\n",
    "print(len(x.loc[(x['preds']<1.5)&(x.label == 'low_risk')]))\n",
    "print(len(x.loc[(x['preds']<1.5)&(x.label == 'no_risk')]))"
   ]
  },
  {
   "cell_type": "code",
   "execution_count": 33,
   "metadata": {},
   "outputs": [],
   "source": [
    "cols =['home_life',\n",
    " 'failures',\n",
    " 'extra_school_support',\n",
    " 'free_time',\n",
    " 'absences',\n",
    " 'mom_edu',\n",
    " 'label', 'we/2twd/5']\n"
   ]
  },
  {
   "cell_type": "code",
   "execution_count": 45,
   "metadata": {},
   "outputs": [
    {
     "data": {
      "text/plain": [
       "Index(['school', 'sex', 'age', 'rural', 'big_family', 'divorced', 'mom_edu',\n",
       "       'dad_edu', 'mom_job', 'dad_job', 'reason_for_school', 'guardian',\n",
       "       'travel_time', 'study_time', 'failures', 'extra_school_support',\n",
       "       'extra_family_support', 'paid', 'extracurricular', 'preschool',\n",
       "       'college', 'internet_access', 'dating', 'home_life', 'free_time',\n",
       "       'party', 'wd_drinker', 'weekend_drinker', 'health', 'absences',\n",
       "       'fall_grade', 'spring_grade', 'final_grade', 'index', 'risk_score',\n",
       "       'school_GP', 'school_MS', 'guard_mom', 'guard_dad', 'guard_other',\n",
       "       'mom_teach', 'mom_health', 'mom_service', 'mom_home', 'mom_other',\n",
       "       'dad_teach', 'dad_health', 'dad_service', 'dad_home', 'dad_other',\n",
       "       'reason_home', 'reason_rep', 'reason_course', 'reason_other', 'we*wd',\n",
       "       'wd/we', 'we/2twd/5', 'wetwd', '2wdtwe', 'label', 'class'],\n",
       "      dtype='object')"
      ]
     },
     "execution_count": 45,
     "metadata": {},
     "output_type": "execute_result"
    }
   ],
   "source": [
    "df.columns"
   ]
  },
  {
   "cell_type": "code",
   "execution_count": 52,
   "metadata": {},
   "outputs": [],
   "source": [
    "import mlpy\n",
    "pca = mlpy.PCA()\n",
    "cols = ['school', 'sex', 'age', 'rural', 'big_family', 'divorced', 'mom_edu',\n",
    "       'dad_edu', 'mom_job', 'dad_job', 'reason_for_school', 'guardian',\n",
    "       'travel_time', 'study_time', 'failures', 'extra_school_support',\n",
    "       'extra_family_support', 'paid', 'extracurricular', 'preschool',\n",
    "       'college', 'internet_access', 'dating', 'home_life', 'free_time',\n",
    "       'party', 'wd_drinker', 'weekend_drinker', 'health', 'absences',\n",
    "       'fall_grade', 'spring_grade', 'final_grade', 'index', 'risk_score',\n",
    "       'school_GP', 'school_MS', 'guard_mom', 'guard_dad', 'guard_other',\n",
    "       'mom_teach', 'mom_health', 'mom_service', 'mom_home', 'mom_other',\n",
    "       'dad_teach', 'dad_health', 'dad_service', 'dad_home', 'dad_other',\n",
    "       'reason_home', 'reason_rep', 'reason_course', 'reason_other']\n",
    "# 'home_life', 'failures' 'extra_school_support 'free_time' 'absences'\n",
    "newData = df[cols]\n",
    "newData = newData.as_matrix()\n",
    "\n",
    "pca.learn(newData)\n",
    "\n",
    "z1 = pca.transform(newData, 1)\n",
    "z3 = pca.transform(newData, 3)\n",
    "z5 = pca.transform(newData, 5)\n",
    "z20 = pca.transform(newData, 20)\n",
    "\n",
    "\n",
    "x_est_1 = pca.transform_inv(z1)\n",
    "x_est_3 = pca.transform_inv(z3)\n",
    "x_est_5 = pca.transform_inv(z5)\n",
    "x_est_20 = pca.transform_inv(z20)\n",
    "\n",
    "\n",
    "x_est_1_train = [x_est_1[i] for i in train.index]\n",
    "x_est_1_train = np.array(x_est_1_train)\n",
    "x_est_1_test = [x_est_1[i] for i in test.index]\n",
    "x_est_1_test = np.array(x_est_1_test)\n",
    "\n",
    "x_est_3_train = [x_est_3[i] for i in train.index]\n",
    "x_est_3_train = np.array(x_est_3_train)\n",
    "x_est_3_test = [x_est_3[i] for i in test.index]\n",
    "x_est_3_test = np.array(x_est_3_test)\n",
    "\n",
    "x_est_5_train = [x_est_5[i] for i in train.index]\n",
    "x_est_5_train = np.array(x_est_5_train)\n",
    "x_est_5_test = [x_est_5[i] for i in test.index]\n",
    "x_est_5_test = np.array(x_est_5_test)\n",
    "\n",
    "x_est_20_train = [x_est_20[i] for i in train.index]\n",
    "x_est_20_train = np.array(x_est_20_train)\n",
    "x_est_20_test = [x_est_20[i] for i in test.index]\n",
    "x_est_20_test = np.array(x_est_20_test)"
   ]
  },
  {
   "cell_type": "code",
   "execution_count": 53,
   "metadata": {
    "scrolled": false
   },
   "outputs": [
    {
     "name": "stdout",
     "output_type": "stream",
     "text": [
      "                            OLS Regression Results                            \n",
      "==============================================================================\n",
      "Dep. Variable:              we/2twd/5   R-squared:                       0.983\n",
      "Model:                            OLS   Adj. R-squared:                  0.982\n",
      "Method:                 Least Squares   F-statistic:                     1169.\n",
      "Date:                Wed, 03 May 2017   Prob (F-statistic):               0.00\n",
      "Time:                        21:24:26   Log-Likelihood:                 370.62\n",
      "No. Observations:                 433   AIC:                            -699.2\n",
      "Df Residuals:                     412   BIC:                            -613.8\n",
      "Df Model:                          20                                         \n",
      "Covariance Type:            nonrobust                                         \n",
      "==============================================================================\n",
      "                 coef    std err          t      P>|t|      [0.025      0.975]\n",
      "------------------------------------------------------------------------------\n",
      "x1             0.0166      0.007      2.258      0.024       0.002       0.031\n",
      "x2            -0.0427      0.003    -15.015      0.000      -0.048      -0.037\n",
      "x3             0.0223      0.003      8.116      0.000       0.017       0.028\n",
      "x4          6.173e-05      0.002      0.035      0.972      -0.003       0.004\n",
      "x5            -0.0125      0.001    -12.957      0.000      -0.014      -0.011\n",
      "x6            -0.0111      0.001    -19.227      0.000      -0.012      -0.010\n",
      "x7             0.0006      0.006      0.107      0.915      -0.010       0.012\n",
      "x8             0.0030      0.006      0.481      0.630      -0.009       0.015\n",
      "x9          9.561e-05      0.004      0.025      0.980      -0.007       0.008\n",
      "x10            0.0218      0.004      5.194      0.000       0.014       0.030\n",
      "x11            0.0113      0.004      2.605      0.010       0.003       0.020\n",
      "x12            0.0135      0.004      3.042      0.002       0.005       0.022\n",
      "x13           -0.0051      0.007     -0.752      0.452      -0.018       0.008\n",
      "x14            0.0016      0.006      0.257      0.797      -0.011       0.014\n",
      "x15           -0.0180      0.004     -4.121      0.000      -0.027      -0.009\n",
      "x16           -0.0093      0.002     -4.604      0.000      -0.013      -0.005\n",
      "x17           -0.0210      0.003     -6.974      0.000      -0.027      -0.015\n",
      "x18           -0.0023      0.000    -10.508      0.000      -0.003      -0.002\n",
      "x19            0.0139      0.001     10.652      0.000       0.011       0.016\n",
      "x20           -0.0008      0.002     -0.478      0.633      -0.004       0.003\n",
      "x21            0.0181      0.003      6.130      0.000       0.012       0.024\n",
      "x22            0.0147      0.001     12.777      0.000       0.012       0.017\n",
      "x23           -0.0312      0.002    -18.539      0.000      -0.034      -0.028\n",
      "x24           -0.0197      0.006     -3.541      0.000      -0.031      -0.009\n",
      "x25           -0.0025      0.005     -0.485      0.628      -0.013       0.008\n",
      "x26            0.0054      0.005      1.066      0.287      -0.005       0.015\n",
      "x27           -0.0863      0.003    -31.864      0.000      -0.092      -0.081\n",
      "x28            0.3917      0.006     63.358      0.000       0.380       0.404\n",
      "x29            0.0065      0.004      1.760      0.079      -0.001       0.014\n",
      "x30            0.0027      0.001      2.305      0.022       0.000       0.005\n",
      "x31           -0.0011      0.004     -0.267      0.790      -0.009       0.007\n",
      "x32           -0.0007      0.005     -0.136      0.892      -0.010       0.009\n",
      "x33           -0.0043      0.004     -1.175      0.241      -0.012       0.003\n",
      "x34        -3.124e-05    4.8e-05     -0.651      0.515      -0.000    6.31e-05\n",
      "x35            0.0691      0.001     46.854      0.000       0.066       0.072\n",
      "x36            0.0031      0.003      0.980      0.328      -0.003       0.009\n",
      "x37            0.0068      0.005      1.296      0.196      -0.004       0.017\n",
      "x38           -0.0089      0.004     -2.355      0.019      -0.016      -0.001\n",
      "x39            0.0340      0.004      8.385      0.000       0.026       0.042\n",
      "x40           -0.0152      0.003     -6.064      0.000      -0.020      -0.010\n",
      "x41            0.0005      0.001      0.480      0.631      -0.001       0.002\n",
      "x42            0.0175      0.001     12.747      0.000       0.015       0.020\n",
      "x43            0.0016      0.001      1.146      0.253      -0.001       0.004\n",
      "x44           -0.0084      0.003     -2.954      0.003      -0.014      -0.003\n",
      "x45           -0.0013      0.004     -0.372      0.710      -0.008       0.006\n",
      "x46           -0.0131      0.001    -18.816      0.000      -0.014      -0.012\n",
      "x47           -0.0022      0.001     -3.440      0.001      -0.003      -0.001\n",
      "x48            0.0439      0.004     12.450      0.000       0.037       0.051\n",
      "x49           -0.0014      0.001     -1.299      0.195      -0.004       0.001\n",
      "x50           -0.0174      0.003     -5.619      0.000      -0.023      -0.011\n",
      "x51           -0.0103      0.004     -2.543      0.011      -0.018      -0.002\n",
      "x52            0.0341      0.002     22.493      0.000       0.031       0.037\n",
      "x53           -0.0091      0.002     -5.059      0.000      -0.013      -0.006\n",
      "x54           -0.0048      0.001     -5.245      0.000      -0.007      -0.003\n",
      "==============================================================================\n",
      "Omnibus:                      212.135   Durbin-Watson:                   2.040\n",
      "Prob(Omnibus):                  0.000   Jarque-Bera (JB):             2168.140\n",
      "Skew:                           1.845   Prob(JB):                         0.00\n",
      "Kurtosis:                      13.323   Cond. No.                     1.63e+18\n",
      "==============================================================================\n",
      "\n",
      "Warnings:\n",
      "[1] Standard Errors assume that the covariance matrix of the errors is correctly specified.\n",
      "[2] The smallest eigenvalue is 2.38e-29. This might indicate that there are\n",
      "strong multicollinearity problems or that the design matrix is singular.\n",
      "MSE 3.65031825546e-05\n"
     ]
    },
    {
     "name": "stderr",
     "output_type": "stream",
     "text": [
      "/usr/local/lib/python3.5/dist-packages/ipykernel_launcher.py:12: SettingWithCopyWarning: \n",
      "A value is trying to be set on a copy of a slice from a DataFrame.\n",
      "Try using .loc[row_indexer,col_indexer] = value instead\n",
      "\n",
      "See the caveats in the documentation: http://pandas.pydata.org/pandas-docs/stable/indexing.html#indexing-view-versus-copy\n",
      "  if sys.path[0] == '':\n"
     ]
    },
    {
     "data": {
      "text/plain": [
       "420    1.721240\n",
       "539    1.295907\n",
       "582    0.807998\n",
       "243    1.181710\n",
       "91     1.675713\n",
       "349    1.243864\n",
       "382    2.871489\n",
       "169    2.083966\n",
       "106    0.695483\n",
       "325    2.388326\n",
       "59     0.672672\n",
       "134    1.694786\n",
       "228    1.170039\n",
       "309    1.793444\n",
       "629    1.741654\n",
       "390    0.776707\n",
       "223    0.739291\n",
       "376    1.203609\n",
       "43     0.735278\n",
       "248    0.791807\n",
       "646    0.867223\n",
       "160    2.371934\n",
       "351    0.807700\n",
       "162    2.867555\n",
       "407    0.930487\n",
       "212    1.706724\n",
       "436    1.169836\n",
       "196    1.804896\n",
       "461    1.961221\n",
       "2      1.739364\n",
       "         ...   \n",
       "448    0.659068\n",
       "507    0.774278\n",
       "28     0.703072\n",
       "607    1.226391\n",
       "41     2.321975\n",
       "409    2.292792\n",
       "418    3.610706\n",
       "111    0.799934\n",
       "135    2.180384\n",
       "599    0.782135\n",
       "11     0.748637\n",
       "314    1.174393\n",
       "411    1.303061\n",
       "288    1.650906\n",
       "364    1.200402\n",
       "600    2.616863\n",
       "366    0.684647\n",
       "465    1.877886\n",
       "524    0.723382\n",
       "343    0.802859\n",
       "568    0.835673\n",
       "580    1.966845\n",
       "140    2.333896\n",
       "156    1.217111\n",
       "131    1.684994\n",
       "378    3.241110\n",
       "510    0.678701\n",
       "299    1.284090\n",
       "190    2.187307\n",
       "594    1.191338\n",
       "Name: preds, dtype: float64"
      ]
     },
     "execution_count": 53,
     "metadata": {},
     "output_type": "execute_result"
    }
   ],
   "source": [
    "metric = ['we/2twd/5']\n",
    "x_train = x_est_20_train\n",
    "x_test = x_est_20_test\n",
    "#print(x_test.shape)\n",
    "#print(x_test.columns)\n",
    "y_train = train[metric]\n",
    "y_test = test[metric]\n",
    "\n",
    "# Train the model using training sets, using Ordinary Least Square method\n",
    "results = sm.OLS(y_train, x_train).fit()\n",
    "print(results.summary())\n",
    "y_test['preds'] = results.predict(x_test)\n",
    "a = y_test['preds'] - y_test['we/2twd/5']\n",
    "b1= (np.mean(a))**2\n",
    "print(\"MSE \"+ str(b1))\n",
    "y_test['preds']"
   ]
  },
  {
   "cell_type": "code",
   "execution_count": 55,
   "metadata": {
    "scrolled": true
   },
   "outputs": [
    {
     "name": "stdout",
     "output_type": "stream",
     "text": [
      "high_risk: 45\n",
      "low_risk: 210\n",
      "no_risk: 394\n",
      "15\n",
      "0\n",
      "0\n",
      "6\n",
      "65\n",
      "0\n",
      "0\n",
      "1\n",
      "129\n"
     ]
    }
   ],
   "source": [
    "#https://www.sciencedaily.com/releases/2010/05/100531190855.htm\n",
    "#http://www.who.int/substance_abuse/publications/global_alcohol_report/profiles/prt.pdf\n",
    "#prolly should label top 10% as high risk, and bottom 60 as no risk.\n",
    "metric = ['we/2twd/5']\n",
    "l0 = df[df['we/2twd/5'] > 2.7]\n",
    "l1 = df[(df['we/2twd/5'] <= 2.7) & (df['we/2twd/5'] > 1.5)]\n",
    "l2 = df[df['we/2twd/5'] <= 1.5]\n",
    "labels = ['high_risk', 'low_risk', 'no_risk']\n",
    "ls = []\n",
    "for r in range(len(df)):\n",
    "    if df.loc[r]['index'] in l0.index:\n",
    "        ls.append(labels[0])\n",
    "    elif df.loc[r]['index'] in l1.index:\n",
    "        ls.append(labels[1])\n",
    "    elif df.loc[r]['index'] in l2.index:\n",
    "        ls.append(labels[2])\n",
    "    else: \n",
    "        print('something went wrong')\n",
    "        \n",
    "df['label'] = ls\n",
    "print(labels[0] +': '+ str(len(df.loc[df.label == labels[0]])))\n",
    "print(labels[1] +': '+ str(len(df.loc[df.label == labels[1]])))\n",
    "print(labels[2] +': '+ str(len(df.loc[df.label == labels[2]])))\n",
    "\n",
    "print(len(x.loc[(x['preds']>2.7) & (x.label == 'high_risk')]))\n",
    "print(len(x.loc[(x['preds']>2.7)&(x.label == 'low_risk')]))\n",
    "print(len(x.loc[(x['preds']>2.7)&(x.label == 'no_risk')]))\n",
    "\n",
    "\n",
    "print(len(x.loc[(x['preds']<=2.7)&(x.label == 'high_risk')&(x['preds']>1.5)]))\n",
    "print(len(x.loc[(x['preds']<=2.7)&(x.label == 'low_risk')&(x['preds']>1.5)]))\n",
    "print(len(x.loc[(x['preds']<=2.7)&(x.label == 'no_risk')&(x['preds']>1.5)]))\n",
    "\n",
    "print(len(x.loc[(x['preds']<=1.5)&(x.label == 'high_risk')]))\n",
    "print(len(x.loc[(x['preds']<=1.5)&(x.label == 'low_risk')]))\n",
    "print(len(x.loc[(x['preds']<=1.5)&(x.label == 'no_risk')]))\n"
   ]
  },
  {
   "cell_type": "code",
   "execution_count": null,
   "metadata": {
    "collapsed": true
   },
   "outputs": [],
   "source": []
  }
 ],
 "metadata": {
  "kernelspec": {
   "display_name": "Python 3",
   "language": "python",
   "name": "python3"
  },
  "language_info": {
   "codemirror_mode": {
    "name": "ipython",
    "version": 3
   },
   "file_extension": ".py",
   "mimetype": "text/x-python",
   "name": "python",
   "nbconvert_exporter": "python",
   "pygments_lexer": "ipython3",
   "version": "3.5.2"
  }
 },
 "nbformat": 4,
 "nbformat_minor": 2
}
